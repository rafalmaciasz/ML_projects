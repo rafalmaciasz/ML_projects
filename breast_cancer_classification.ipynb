{
 "cells": [
  {
   "cell_type": "markdown",
   "metadata": {},
   "source": [
    "# Breast cancer prediction model"
   ]
  },
  {
   "cell_type": "code",
   "execution_count": 1,
   "metadata": {},
   "outputs": [
    {
     "data": {
      "text/html": [
       "<div>\n",
       "<style scoped>\n",
       "    .dataframe tbody tr th:only-of-type {\n",
       "        vertical-align: middle;\n",
       "    }\n",
       "\n",
       "    .dataframe tbody tr th {\n",
       "        vertical-align: top;\n",
       "    }\n",
       "\n",
       "    .dataframe thead th {\n",
       "        text-align: right;\n",
       "    }\n",
       "</style>\n",
       "<table border=\"1\" class=\"dataframe\">\n",
       "  <thead>\n",
       "    <tr style=\"text-align: right;\">\n",
       "      <th></th>\n",
       "      <th>ID</th>\n",
       "      <th>clump_thickness</th>\n",
       "      <th>uniformity_of_cell_size</th>\n",
       "      <th>uniformity_of_cell_shape</th>\n",
       "      <th>marginal_adhesion</th>\n",
       "      <th>single_epithelial_cell_size</th>\n",
       "      <th>bland_chromatin</th>\n",
       "      <th>normal_nucleoli</th>\n",
       "      <th>mitoses</th>\n",
       "      <th>class</th>\n",
       "    </tr>\n",
       "  </thead>\n",
       "  <tbody>\n",
       "    <tr>\n",
       "      <th>count</th>\n",
       "      <td>698.000</td>\n",
       "      <td>698.000</td>\n",
       "      <td>698.000</td>\n",
       "      <td>698.000</td>\n",
       "      <td>698.000</td>\n",
       "      <td>698.000</td>\n",
       "      <td>698.000</td>\n",
       "      <td>698.000</td>\n",
       "      <td>698.000</td>\n",
       "      <td>698.000</td>\n",
       "    </tr>\n",
       "    <tr>\n",
       "      <th>mean</th>\n",
       "      <td>1071806.791</td>\n",
       "      <td>4.417</td>\n",
       "      <td>3.138</td>\n",
       "      <td>3.211</td>\n",
       "      <td>2.809</td>\n",
       "      <td>3.218</td>\n",
       "      <td>3.438</td>\n",
       "      <td>2.870</td>\n",
       "      <td>1.590</td>\n",
       "      <td>2.691</td>\n",
       "    </tr>\n",
       "    <tr>\n",
       "      <th>std</th>\n",
       "      <td>617532.274</td>\n",
       "      <td>2.818</td>\n",
       "      <td>3.053</td>\n",
       "      <td>2.973</td>\n",
       "      <td>2.857</td>\n",
       "      <td>2.215</td>\n",
       "      <td>2.440</td>\n",
       "      <td>3.055</td>\n",
       "      <td>1.716</td>\n",
       "      <td>0.952</td>\n",
       "    </tr>\n",
       "    <tr>\n",
       "      <th>min</th>\n",
       "      <td>61634.000</td>\n",
       "      <td>1.000</td>\n",
       "      <td>1.000</td>\n",
       "      <td>1.000</td>\n",
       "      <td>1.000</td>\n",
       "      <td>1.000</td>\n",
       "      <td>1.000</td>\n",
       "      <td>1.000</td>\n",
       "      <td>1.000</td>\n",
       "      <td>2.000</td>\n",
       "    </tr>\n",
       "    <tr>\n",
       "      <th>25%</th>\n",
       "      <td>870258.250</td>\n",
       "      <td>2.000</td>\n",
       "      <td>1.000</td>\n",
       "      <td>1.000</td>\n",
       "      <td>1.000</td>\n",
       "      <td>2.000</td>\n",
       "      <td>2.000</td>\n",
       "      <td>1.000</td>\n",
       "      <td>1.000</td>\n",
       "      <td>2.000</td>\n",
       "    </tr>\n",
       "    <tr>\n",
       "      <th>50%</th>\n",
       "      <td>1171710.000</td>\n",
       "      <td>4.000</td>\n",
       "      <td>1.000</td>\n",
       "      <td>1.000</td>\n",
       "      <td>1.000</td>\n",
       "      <td>2.000</td>\n",
       "      <td>3.000</td>\n",
       "      <td>1.000</td>\n",
       "      <td>1.000</td>\n",
       "      <td>2.000</td>\n",
       "    </tr>\n",
       "    <tr>\n",
       "      <th>75%</th>\n",
       "      <td>1238354.000</td>\n",
       "      <td>6.000</td>\n",
       "      <td>5.000</td>\n",
       "      <td>5.000</td>\n",
       "      <td>4.000</td>\n",
       "      <td>4.000</td>\n",
       "      <td>5.000</td>\n",
       "      <td>4.000</td>\n",
       "      <td>1.000</td>\n",
       "      <td>4.000</td>\n",
       "    </tr>\n",
       "    <tr>\n",
       "      <th>max</th>\n",
       "      <td>13454352.000</td>\n",
       "      <td>10.000</td>\n",
       "      <td>10.000</td>\n",
       "      <td>10.000</td>\n",
       "      <td>10.000</td>\n",
       "      <td>10.000</td>\n",
       "      <td>10.000</td>\n",
       "      <td>10.000</td>\n",
       "      <td>10.000</td>\n",
       "      <td>4.000</td>\n",
       "    </tr>\n",
       "  </tbody>\n",
       "</table>\n",
       "</div>"
      ],
      "text/plain": [
       "                ID  clump_thickness  uniformity_of_cell_size  \\\n",
       "count      698.000          698.000                  698.000   \n",
       "mean   1071806.791            4.417                    3.138   \n",
       "std     617532.274            2.818                    3.053   \n",
       "min      61634.000            1.000                    1.000   \n",
       "25%     870258.250            2.000                    1.000   \n",
       "50%    1171710.000            4.000                    1.000   \n",
       "75%    1238354.000            6.000                    5.000   \n",
       "max   13454352.000           10.000                   10.000   \n",
       "\n",
       "       uniformity_of_cell_shape  marginal_adhesion  \\\n",
       "count                   698.000            698.000   \n",
       "mean                      3.211              2.809   \n",
       "std                       2.973              2.857   \n",
       "min                       1.000              1.000   \n",
       "25%                       1.000              1.000   \n",
       "50%                       1.000              1.000   \n",
       "75%                       5.000              4.000   \n",
       "max                      10.000             10.000   \n",
       "\n",
       "       single_epithelial_cell_size  bland_chromatin  normal_nucleoli  mitoses  \\\n",
       "count                      698.000          698.000          698.000  698.000   \n",
       "mean                         3.218            3.438            2.870    1.590   \n",
       "std                          2.215            2.440            3.055    1.716   \n",
       "min                          1.000            1.000            1.000    1.000   \n",
       "25%                          2.000            2.000            1.000    1.000   \n",
       "50%                          2.000            3.000            1.000    1.000   \n",
       "75%                          4.000            5.000            4.000    1.000   \n",
       "max                         10.000           10.000           10.000   10.000   \n",
       "\n",
       "        class  \n",
       "count 698.000  \n",
       "mean    2.691  \n",
       "std     0.952  \n",
       "min     2.000  \n",
       "25%     2.000  \n",
       "50%     2.000  \n",
       "75%     4.000  \n",
       "max     4.000  "
      ]
     },
     "execution_count": 1,
     "metadata": {},
     "output_type": "execute_result"
    }
   ],
   "source": [
    "try:\n",
    "    import pandas as pd\n",
    "except:\n",
    "    !pip install pandas\n",
    "    import pandas as pd\n",
    "\n",
    "import tensorflow as tf\n",
    "import numpy as np\n",
    "import matplotlib.pyplot as plt\n",
    "\n",
    "breastCancerDf = pd.read_csv(\"breast-cancer-wisconsin.csv\", encoding='latin')\n",
    "pd.options.display.max_rows = 10\n",
    "pd.options.display.float_format = '{:.3f}'.format\n",
    "\n",
    "breastCancerDf.columns = ['ID', 'clump_thickness', 'uniformity_of_cell_size',\n",
    "                          'uniformity_of_cell_shape', 'marginal_adhesion', \n",
    "                          'single_epithelial_cell_size', 'bare_nuclei', 'bland_chromatin',\n",
    "                          'normal_nucleoli', 'mitoses', 'class']\n",
    "\n",
    "breastCancerDf.describe()"
   ]
  },
  {
   "cell_type": "markdown",
   "metadata": {},
   "source": [
    "   This breast cancer databases was obtained from the University of Wisconsin\n",
    "    Hospitals, Madison from Dr. William H. Wolberg.\n",
    "   \n",
    "   1. O. L. Mangasarian and W. H. Wolberg: \"Cancer diagnosis via linear \n",
    "      programming\", SIAM News, Volume 23, Number 5, September 1990, pp 1 & 18.\n",
    "\n",
    "   2. William H. Wolberg and O.L. Mangasarian: \"Multisurface method of \n",
    "      pattern separation for medical diagnosis applied to breast cytology\", \n",
    "      Proceedings of the National Academy of Sciences, U.S.A., Volume 87, \n",
    "      December 1990, pp 9193-9196.\n",
    "\n",
    "   3. O. L. Mangasarian, R. Setiono, and W.H. Wolberg: \"Pattern recognition \n",
    "      via linear programming: Theory and application to medical diagnosis\", \n",
    "      in: \"Large-scale numerical optimization\", Thomas F. Coleman and Yuying\n",
    "      Li, editors, SIAM Publications, Philadelphia 1990, pp 22-30.\n",
    "\n",
    "   4. K. P. Bennett & O. L. Mangasarian: \"Robust linear programming \n",
    "      discrimination of two linearly inseparable sets\", Optimization Methods\n",
    "      and Software 1, 1992, 23-34 (Gordon & Breach Science Publishers)."
   ]
  },
  {
   "cell_type": "markdown",
   "metadata": {},
   "source": [
    "# Data preparation"
   ]
  },
  {
   "cell_type": "markdown",
   "metadata": {},
   "source": [
    "**Display a correlation matrix**"
   ]
  },
  {
   "cell_type": "code",
   "execution_count": 2,
   "metadata": {},
   "outputs": [
    {
     "data": {
      "text/html": [
       "<div>\n",
       "<style scoped>\n",
       "    .dataframe tbody tr th:only-of-type {\n",
       "        vertical-align: middle;\n",
       "    }\n",
       "\n",
       "    .dataframe tbody tr th {\n",
       "        vertical-align: top;\n",
       "    }\n",
       "\n",
       "    .dataframe thead th {\n",
       "        text-align: right;\n",
       "    }\n",
       "</style>\n",
       "<table border=\"1\" class=\"dataframe\">\n",
       "  <thead>\n",
       "    <tr style=\"text-align: right;\">\n",
       "      <th></th>\n",
       "      <th>ID</th>\n",
       "      <th>clump_thickness</th>\n",
       "      <th>uniformity_of_cell_size</th>\n",
       "      <th>uniformity_of_cell_shape</th>\n",
       "      <th>marginal_adhesion</th>\n",
       "      <th>single_epithelial_cell_size</th>\n",
       "      <th>bland_chromatin</th>\n",
       "      <th>normal_nucleoli</th>\n",
       "      <th>mitoses</th>\n",
       "      <th>class</th>\n",
       "    </tr>\n",
       "  </thead>\n",
       "  <tbody>\n",
       "    <tr>\n",
       "      <th>ID</th>\n",
       "      <td>1.000</td>\n",
       "      <td>-0.055</td>\n",
       "      <td>-0.042</td>\n",
       "      <td>-0.042</td>\n",
       "      <td>-0.065</td>\n",
       "      <td>-0.046</td>\n",
       "      <td>-0.060</td>\n",
       "      <td>-0.052</td>\n",
       "      <td>-0.035</td>\n",
       "      <td>-0.080</td>\n",
       "    </tr>\n",
       "    <tr>\n",
       "      <th>clump_thickness</th>\n",
       "      <td>-0.055</td>\n",
       "      <td>1.000</td>\n",
       "      <td>0.645</td>\n",
       "      <td>0.655</td>\n",
       "      <td>0.487</td>\n",
       "      <td>0.522</td>\n",
       "      <td>0.559</td>\n",
       "      <td>0.536</td>\n",
       "      <td>0.350</td>\n",
       "      <td>0.717</td>\n",
       "    </tr>\n",
       "    <tr>\n",
       "      <th>uniformity_of_cell_size</th>\n",
       "      <td>-0.042</td>\n",
       "      <td>0.645</td>\n",
       "      <td>1.000</td>\n",
       "      <td>0.907</td>\n",
       "      <td>0.705</td>\n",
       "      <td>0.752</td>\n",
       "      <td>0.756</td>\n",
       "      <td>0.723</td>\n",
       "      <td>0.459</td>\n",
       "      <td>0.818</td>\n",
       "    </tr>\n",
       "    <tr>\n",
       "      <th>uniformity_of_cell_shape</th>\n",
       "      <td>-0.042</td>\n",
       "      <td>0.655</td>\n",
       "      <td>0.907</td>\n",
       "      <td>1.000</td>\n",
       "      <td>0.683</td>\n",
       "      <td>0.720</td>\n",
       "      <td>0.736</td>\n",
       "      <td>0.719</td>\n",
       "      <td>0.439</td>\n",
       "      <td>0.819</td>\n",
       "    </tr>\n",
       "    <tr>\n",
       "      <th>marginal_adhesion</th>\n",
       "      <td>-0.065</td>\n",
       "      <td>0.487</td>\n",
       "      <td>0.705</td>\n",
       "      <td>0.683</td>\n",
       "      <td>1.000</td>\n",
       "      <td>0.599</td>\n",
       "      <td>0.667</td>\n",
       "      <td>0.603</td>\n",
       "      <td>0.417</td>\n",
       "      <td>0.697</td>\n",
       "    </tr>\n",
       "    <tr>\n",
       "      <th>single_epithelial_cell_size</th>\n",
       "      <td>-0.046</td>\n",
       "      <td>0.522</td>\n",
       "      <td>0.752</td>\n",
       "      <td>0.720</td>\n",
       "      <td>0.599</td>\n",
       "      <td>1.000</td>\n",
       "      <td>0.616</td>\n",
       "      <td>0.629</td>\n",
       "      <td>0.479</td>\n",
       "      <td>0.683</td>\n",
       "    </tr>\n",
       "    <tr>\n",
       "      <th>bland_chromatin</th>\n",
       "      <td>-0.060</td>\n",
       "      <td>0.559</td>\n",
       "      <td>0.756</td>\n",
       "      <td>0.736</td>\n",
       "      <td>0.667</td>\n",
       "      <td>0.616</td>\n",
       "      <td>1.000</td>\n",
       "      <td>0.666</td>\n",
       "      <td>0.344</td>\n",
       "      <td>0.757</td>\n",
       "    </tr>\n",
       "    <tr>\n",
       "      <th>normal_nucleoli</th>\n",
       "      <td>-0.052</td>\n",
       "      <td>0.536</td>\n",
       "      <td>0.723</td>\n",
       "      <td>0.719</td>\n",
       "      <td>0.603</td>\n",
       "      <td>0.629</td>\n",
       "      <td>0.666</td>\n",
       "      <td>1.000</td>\n",
       "      <td>0.428</td>\n",
       "      <td>0.712</td>\n",
       "    </tr>\n",
       "    <tr>\n",
       "      <th>mitoses</th>\n",
       "      <td>-0.035</td>\n",
       "      <td>0.350</td>\n",
       "      <td>0.459</td>\n",
       "      <td>0.439</td>\n",
       "      <td>0.417</td>\n",
       "      <td>0.479</td>\n",
       "      <td>0.344</td>\n",
       "      <td>0.428</td>\n",
       "      <td>1.000</td>\n",
       "      <td>0.423</td>\n",
       "    </tr>\n",
       "    <tr>\n",
       "      <th>class</th>\n",
       "      <td>-0.080</td>\n",
       "      <td>0.717</td>\n",
       "      <td>0.818</td>\n",
       "      <td>0.819</td>\n",
       "      <td>0.697</td>\n",
       "      <td>0.683</td>\n",
       "      <td>0.757</td>\n",
       "      <td>0.712</td>\n",
       "      <td>0.423</td>\n",
       "      <td>1.000</td>\n",
       "    </tr>\n",
       "  </tbody>\n",
       "</table>\n",
       "</div>"
      ],
      "text/plain": [
       "                                ID  clump_thickness  uniformity_of_cell_size  \\\n",
       "ID                           1.000           -0.055                   -0.042   \n",
       "clump_thickness             -0.055            1.000                    0.645   \n",
       "uniformity_of_cell_size     -0.042            0.645                    1.000   \n",
       "uniformity_of_cell_shape    -0.042            0.655                    0.907   \n",
       "marginal_adhesion           -0.065            0.487                    0.705   \n",
       "single_epithelial_cell_size -0.046            0.522                    0.752   \n",
       "bland_chromatin             -0.060            0.559                    0.756   \n",
       "normal_nucleoli             -0.052            0.536                    0.723   \n",
       "mitoses                     -0.035            0.350                    0.459   \n",
       "class                       -0.080            0.717                    0.818   \n",
       "\n",
       "                             uniformity_of_cell_shape  marginal_adhesion  \\\n",
       "ID                                             -0.042             -0.065   \n",
       "clump_thickness                                 0.655              0.487   \n",
       "uniformity_of_cell_size                         0.907              0.705   \n",
       "uniformity_of_cell_shape                        1.000              0.683   \n",
       "marginal_adhesion                               0.683              1.000   \n",
       "single_epithelial_cell_size                     0.720              0.599   \n",
       "bland_chromatin                                 0.736              0.667   \n",
       "normal_nucleoli                                 0.719              0.603   \n",
       "mitoses                                         0.439              0.417   \n",
       "class                                           0.819              0.697   \n",
       "\n",
       "                             single_epithelial_cell_size  bland_chromatin  \\\n",
       "ID                                                -0.046           -0.060   \n",
       "clump_thickness                                    0.522            0.559   \n",
       "uniformity_of_cell_size                            0.752            0.756   \n",
       "uniformity_of_cell_shape                           0.720            0.736   \n",
       "marginal_adhesion                                  0.599            0.667   \n",
       "single_epithelial_cell_size                        1.000            0.616   \n",
       "bland_chromatin                                    0.616            1.000   \n",
       "normal_nucleoli                                    0.629            0.666   \n",
       "mitoses                                            0.479            0.344   \n",
       "class                                              0.683            0.757   \n",
       "\n",
       "                             normal_nucleoli  mitoses  class  \n",
       "ID                                    -0.052   -0.035 -0.080  \n",
       "clump_thickness                        0.536    0.350  0.717  \n",
       "uniformity_of_cell_size                0.723    0.459  0.818  \n",
       "uniformity_of_cell_shape               0.719    0.439  0.819  \n",
       "marginal_adhesion                      0.603    0.417  0.697  \n",
       "single_epithelial_cell_size            0.629    0.479  0.683  \n",
       "bland_chromatin                        0.666    0.344  0.757  \n",
       "normal_nucleoli                        1.000    0.428  0.712  \n",
       "mitoses                                0.428    1.000  0.423  \n",
       "class                                  0.712    0.423  1.000  "
      ]
     },
     "execution_count": 2,
     "metadata": {},
     "output_type": "execute_result"
    }
   ],
   "source": [
    "breastCancerDf.corr()"
   ]
  },
  {
   "cell_type": "markdown",
   "metadata": {},
   "source": [
    "**Make a 'class' feature as binary (0 -> benign, 1 -> malignant)**"
   ]
  },
  {
   "cell_type": "code",
   "execution_count": 3,
   "metadata": {},
   "outputs": [
    {
     "data": {
      "text/plain": [
       "0      0\n",
       "1      0\n",
       "2      0\n",
       "3      0\n",
       "4      1\n",
       "      ..\n",
       "693    0\n",
       "694    0\n",
       "695    1\n",
       "696    1\n",
       "697    1\n",
       "Name: class, Length: 698, dtype: int64"
      ]
     },
     "execution_count": 3,
     "metadata": {},
     "output_type": "execute_result"
    }
   ],
   "source": [
    "brCancer = breastCancerDf.copy(deep=True)\n",
    "brCancer['class'] = np.where(breastCancerDf['class'] > 3, 1, 0)\n",
    "brCancer['class']"
   ]
  },
  {
   "cell_type": "markdown",
   "metadata": {},
   "source": [
    "**Convert values in 'bare_nuclei' column to int**"
   ]
  },
  {
   "cell_type": "code",
   "execution_count": 4,
   "metadata": {},
   "outputs": [
    {
     "data": {
      "text/plain": [
       "0     10.000\n",
       "1      2.000\n",
       "2      4.000\n",
       "3      1.000\n",
       "4     10.000\n",
       "       ...  \n",
       "693    2.000\n",
       "694    1.000\n",
       "695    3.000\n",
       "696    4.000\n",
       "697    5.000\n",
       "Name: bare_nuclei, Length: 698, dtype: float64"
      ]
     },
     "execution_count": 4,
     "metadata": {},
     "output_type": "execute_result"
    }
   ],
   "source": [
    "# Convert str to numeric\n",
    "brCancer['bare_nuclei'] = pd.to_numeric(breastCancerDf['bare_nuclei'], errors='coerce')\n",
    "brCancer['bare_nuclei']"
   ]
  },
  {
   "cell_type": "code",
   "execution_count": 5,
   "metadata": {},
   "outputs": [
    {
     "name": "stdout",
     "output_type": "stream",
     "text": [
      "Number of NaN values in 'bare_nuclei' column:  16\n"
     ]
    }
   ],
   "source": [
    "# Drop rows with missing values in 'bare_nuclei' column\n",
    "a = len(breastCancerDf['bare_nuclei'])\n",
    "for i in brCancer['bare_nuclei'].values:\n",
    "    if i >= 0:\n",
    "        a -= 1\n",
    "print(\"Number of NaN values in 'bare_nuclei' column: \", a)\n",
    "\n",
    "brCancer.dropna(axis=0, how='any', inplace=True)"
   ]
  },
  {
   "cell_type": "code",
   "execution_count": 6,
   "metadata": {},
   "outputs": [
    {
     "data": {
      "text/plain": [
       "0      10\n",
       "1       2\n",
       "2       4\n",
       "3       1\n",
       "4      10\n",
       "       ..\n",
       "693     2\n",
       "694     1\n",
       "695     3\n",
       "696     4\n",
       "697     5\n",
       "Name: bare_nuclei, Length: 682, dtype: int64"
      ]
     },
     "execution_count": 6,
     "metadata": {},
     "output_type": "execute_result"
    }
   ],
   "source": [
    "# Convert to int \n",
    "brCancer['bare_nuclei'] = [int(x)  if x >= 0 else np.nan for x in brCancer['bare_nuclei']]\n",
    "brCancer['bare_nuclei']"
   ]
  },
  {
   "cell_type": "code",
   "execution_count": 7,
   "metadata": {},
   "outputs": [
    {
     "data": {
      "text/html": [
       "<div>\n",
       "<style scoped>\n",
       "    .dataframe tbody tr th:only-of-type {\n",
       "        vertical-align: middle;\n",
       "    }\n",
       "\n",
       "    .dataframe tbody tr th {\n",
       "        vertical-align: top;\n",
       "    }\n",
       "\n",
       "    .dataframe thead th {\n",
       "        text-align: right;\n",
       "    }\n",
       "</style>\n",
       "<table border=\"1\" class=\"dataframe\">\n",
       "  <thead>\n",
       "    <tr style=\"text-align: right;\">\n",
       "      <th></th>\n",
       "      <th>ID</th>\n",
       "      <th>clump_thickness</th>\n",
       "      <th>uniformity_of_cell_size</th>\n",
       "      <th>uniformity_of_cell_shape</th>\n",
       "      <th>marginal_adhesion</th>\n",
       "      <th>single_epithelial_cell_size</th>\n",
       "      <th>bare_nuclei</th>\n",
       "      <th>bland_chromatin</th>\n",
       "      <th>normal_nucleoli</th>\n",
       "      <th>mitoses</th>\n",
       "      <th>class</th>\n",
       "    </tr>\n",
       "  </thead>\n",
       "  <tbody>\n",
       "    <tr>\n",
       "      <th>0</th>\n",
       "      <td>1002945</td>\n",
       "      <td>5</td>\n",
       "      <td>4</td>\n",
       "      <td>4</td>\n",
       "      <td>5</td>\n",
       "      <td>7</td>\n",
       "      <td>10</td>\n",
       "      <td>3</td>\n",
       "      <td>2</td>\n",
       "      <td>1</td>\n",
       "      <td>0</td>\n",
       "    </tr>\n",
       "    <tr>\n",
       "      <th>1</th>\n",
       "      <td>1015425</td>\n",
       "      <td>3</td>\n",
       "      <td>1</td>\n",
       "      <td>1</td>\n",
       "      <td>1</td>\n",
       "      <td>2</td>\n",
       "      <td>2</td>\n",
       "      <td>3</td>\n",
       "      <td>1</td>\n",
       "      <td>1</td>\n",
       "      <td>0</td>\n",
       "    </tr>\n",
       "    <tr>\n",
       "      <th>2</th>\n",
       "      <td>1016277</td>\n",
       "      <td>6</td>\n",
       "      <td>8</td>\n",
       "      <td>8</td>\n",
       "      <td>1</td>\n",
       "      <td>3</td>\n",
       "      <td>4</td>\n",
       "      <td>3</td>\n",
       "      <td>7</td>\n",
       "      <td>1</td>\n",
       "      <td>0</td>\n",
       "    </tr>\n",
       "    <tr>\n",
       "      <th>3</th>\n",
       "      <td>1017023</td>\n",
       "      <td>4</td>\n",
       "      <td>1</td>\n",
       "      <td>1</td>\n",
       "      <td>3</td>\n",
       "      <td>2</td>\n",
       "      <td>1</td>\n",
       "      <td>3</td>\n",
       "      <td>1</td>\n",
       "      <td>1</td>\n",
       "      <td>0</td>\n",
       "    </tr>\n",
       "    <tr>\n",
       "      <th>4</th>\n",
       "      <td>1017122</td>\n",
       "      <td>8</td>\n",
       "      <td>10</td>\n",
       "      <td>10</td>\n",
       "      <td>8</td>\n",
       "      <td>7</td>\n",
       "      <td>10</td>\n",
       "      <td>9</td>\n",
       "      <td>7</td>\n",
       "      <td>1</td>\n",
       "      <td>1</td>\n",
       "    </tr>\n",
       "  </tbody>\n",
       "</table>\n",
       "</div>"
      ],
      "text/plain": [
       "        ID  clump_thickness  uniformity_of_cell_size  \\\n",
       "0  1002945                5                        4   \n",
       "1  1015425                3                        1   \n",
       "2  1016277                6                        8   \n",
       "3  1017023                4                        1   \n",
       "4  1017122                8                       10   \n",
       "\n",
       "   uniformity_of_cell_shape  marginal_adhesion  single_epithelial_cell_size  \\\n",
       "0                         4                  5                            7   \n",
       "1                         1                  1                            2   \n",
       "2                         8                  1                            3   \n",
       "3                         1                  3                            2   \n",
       "4                        10                  8                            7   \n",
       "\n",
       "   bare_nuclei  bland_chromatin  normal_nucleoli  mitoses  class  \n",
       "0           10                3                2        1      0  \n",
       "1            2                3                1        1      0  \n",
       "2            4                3                7        1      0  \n",
       "3            1                3                1        1      0  \n",
       "4           10                9                7        1      1  "
      ]
     },
     "execution_count": 7,
     "metadata": {},
     "output_type": "execute_result"
    }
   ],
   "source": [
    "brCancer.head()"
   ]
  },
  {
   "cell_type": "markdown",
   "metadata": {},
   "source": [
    "# Validating input data"
   ]
  },
  {
   "cell_type": "markdown",
   "metadata": {},
   "source": [
    "**Create a validation input data function**"
   ]
  },
  {
   "cell_type": "code",
   "execution_count": 8,
   "metadata": {},
   "outputs": [],
   "source": [
    "def validate_data(input_data, schema):\n",
    "    # Check values range and type\n",
    "    for column in schema.keys():\n",
    "        value_type = input_data[column].map(type) == schema[column]['dtype']\n",
    "        if not value_type.all():\n",
    "            print(input_data[column].map(type))\n",
    "            raise TypeError(\"Invalid value type in column {}\".format(column))\n",
    "        else:\n",
    "            value_min = schema[column]['min'] <= input_data[column].values \n",
    "            value_max = input_data[column].values <= schema[column]['max']\n",
    "            if not value_min.all() or not value_max.all():\n",
    "                raise ValueError(\"Value out of range in column {}\".format(column))\n",
    "    else:\n",
    "        print(\"Input values are correct\")"
   ]
  },
  {
   "cell_type": "markdown",
   "metadata": {},
   "source": [
    "**Create a schema and validate input data**"
   ]
  },
  {
   "cell_type": "code",
   "execution_count": 9,
   "metadata": {},
   "outputs": [
    {
     "name": "stdout",
     "output_type": "stream",
     "text": [
      "Input values are correct\n"
     ]
    }
   ],
   "source": [
    "schema = {'clump_thickness' : {'min' : 1, 'max' : 10, 'dtype' : int},\n",
    "          'uniformity_of_cell_size' : {'min' : 1, 'max' : 10, 'dtype' : int},\n",
    "          'uniformity_of_cell_shape' : {'min' : 1, 'max' : 10, 'dtype' : int},\n",
    "          'marginal_adhesion' : {'min' : 1, 'max' : 10, 'dtype' : int},\n",
    "          'single_epithelial_cell_size' : {'min' : 1, 'max' : 10, 'dtype' : int},\n",
    "          'bare_nuclei' : {'min' : 1, 'max' : 10, 'dtype' : int},\n",
    "          'bland_chromatin' : {'min' : 1, 'max' : 10, 'dtype' : int},    \n",
    "          'normal_nucleoli' : {'min' : 1, 'max' : 10, 'dtype' : int},\n",
    "          'mitoses' : {'min' : 1, 'max' : 10, 'dtype' : int},\n",
    "          'class' : {'min' : 0, 'max' : 1, 'dtype' : int}}\n",
    "\n",
    "validate_data(brCancer, schema)"
   ]
  },
  {
   "cell_type": "markdown",
   "metadata": {},
   "source": [
    "# Feature engineering"
   ]
  },
  {
   "cell_type": "markdown",
   "metadata": {},
   "source": [
    "**Shuffle the dataset**"
   ]
  },
  {
   "cell_type": "code",
   "execution_count": 10,
   "metadata": {},
   "outputs": [],
   "source": [
    "brCancer = brCancer.reindex(np.random.permutation(brCancer.index))"
   ]
  },
  {
   "cell_type": "markdown",
   "metadata": {},
   "source": [
    "**Show historgam of raw values**"
   ]
  },
  {
   "cell_type": "code",
   "execution_count": 11,
   "metadata": {
    "scrolled": false
   },
   "outputs": [
    {
     "data": {
      "image/png": "[encoded data removed]",
      "text/plain": [
       "<Figure size 640x480 with 1 Axes>"
      ]
     },
     "metadata": {},
     "output_type": "display_data"
    }
   ],
   "source": [
    "brCancer.hist(column='uniformity_of_cell_shape')\n",
    "plt.show()"
   ]
  },
  {
   "cell_type": "markdown",
   "metadata": {},
   "source": [
    "**Normalize feature to log scale**"
   ]
  },
  {
   "cell_type": "code",
   "execution_count": 12,
   "metadata": {
    "scrolled": false
   },
   "outputs": [],
   "source": [
    "# uniformity_of_cell_shape_log = pd.DataFrame(brCancer['uniformity_of_cell_shape'].values, \n",
    "#                                             columns=['uniformity_of_cell_shape'])\n",
    "# uniformity_of_cell_shape_log = np.log10(uniformity_of_cell_shape_log)\n",
    "# uniformity_of_cell_shape_log.hist(bins=20)\n",
    "# plt.show()"
   ]
  },
  {
   "cell_type": "markdown",
   "metadata": {},
   "source": [
    "**Normalize to range [0, 1]**"
   ]
  },
  {
   "cell_type": "code",
   "execution_count": 13,
   "metadata": {},
   "outputs": [
    {
     "data": {
      "text/plain": [
       "578   0.100\n",
       "484   0.100\n",
       "25    0.200\n",
       "227   0.100\n",
       "349   0.100\n",
       "       ... \n",
       "666   0.100\n",
       "486   1.000\n",
       "532   0.100\n",
       "390   0.800\n",
       "214   0.700\n",
       "Name: uniformity_of_cell_size, Length: 682, dtype: float64"
      ]
     },
     "execution_count": 13,
     "metadata": {},
     "output_type": "execute_result"
    }
   ],
   "source": [
    "for col in schema.keys():\n",
    "    if schema[col]['max'] != 0:\n",
    "        brCancer[col] /= schema[col]['max']\n",
    "        \n",
    "brCancer['uniformity_of_cell_size']"
   ]
  },
  {
   "cell_type": "markdown",
   "metadata": {},
   "source": [
    "# Validating feature engineering"
   ]
  },
  {
   "cell_type": "code",
   "execution_count": 14,
   "metadata": {},
   "outputs": [
    {
     "name": "stdout",
     "output_type": "stream",
     "text": [
      "Input values are correct\n"
     ]
    }
   ],
   "source": [
    "schema = {'clump_thickness' : {'min' : 0.1, 'max' : 1, 'dtype' : float},\n",
    "          'uniformity_of_cell_size' : {'min' : 0.1, 'max' : 1, 'dtype' : float},\n",
    "          'uniformity_of_cell_shape' : {'min' : 0.1, 'max' : 1, 'dtype' : float},\n",
    "          'marginal_adhesion' : {'min' : 0.1, 'max' : 10, 'dtype' : float},\n",
    "          'single_epithelial_cell_size' : {'min' : 0.1, 'max' : 1, 'dtype' : float},\n",
    "          'bare_nuclei' : {'min' : 0.1, 'max' : 1, 'dtype' : float},\n",
    "          'bland_chromatin' : {'min' : 0.1, 'max' : 1, 'dtype' : float},    \n",
    "          'normal_nucleoli' : {'min' : 0.1, 'max' : 1, 'dtype' : float},\n",
    "          'mitoses' : {'min' : 0.1, 'max' : 1, 'dtype' : float},\n",
    "          'class' : {'min' : 0, 'max' : 1, 'dtype' : float}}\n",
    "\n",
    "validate_data(brCancer, schema)"
   ]
  },
  {
   "cell_type": "markdown",
   "metadata": {},
   "source": [
    "# Creating feature columns"
   ]
  },
  {
   "cell_type": "code",
   "execution_count": 15,
   "metadata": {},
   "outputs": [],
   "source": [
    "feature_column = []\n",
    "\n",
    "# Three features of the most correlated with 'class' feature\n",
    "boundaries = [.2, .3, .4, .5, .6, .7, .8, .9, 1.0]\n",
    "uoc_shape = tf.feature_column.bucketized_column(\n",
    "    tf.feature_column.numeric_column('uniformity_of_cell_shape'),\n",
    "    boundaries=boundaries)\n",
    "uoc_shape = tf.feature_column.embedding_column(uoc_shape, 10)\n",
    "feature_column.append(uoc_shape)\n",
    "\n",
    "uoc_size = tf.feature_column.bucketized_column(\n",
    "    tf.feature_column.numeric_column('uniformity_of_cell_size'),\n",
    "    boundaries=boundaries)\n",
    "uoc_size = tf.feature_column.embedding_column(uoc_size, 10)\n",
    "feature_column.append(uoc_size)\n",
    "\n",
    "bland_chromatin = tf.feature_column.bucketized_column(\n",
    "    tf.feature_column.numeric_column('bland_chromatin'),\n",
    "    boundaries=boundaries)\n",
    "bland_chromatin = tf.feature_column.embedding_column(bland_chromatin, 10)\n",
    "feature_column.append(bland_chromatin)\n",
    "\n",
    "# Create input layer\n",
    "feature_layer = tf.keras.layers.DenseFeatures(feature_column)"
   ]
  },
  {
   "cell_type": "markdown",
   "metadata": {},
   "source": [
    "# Training model"
   ]
  },
  {
   "cell_type": "markdown",
   "metadata": {},
   "source": [
    "**Split the dataset into a training and test set**"
   ]
  },
  {
   "cell_type": "code",
   "execution_count": 16,
   "metadata": {},
   "outputs": [],
   "source": [
    "train_df = brCancer.sample(frac=0.8, random_state=1)\n",
    "test_df = brCancer.drop(train_df.index, axis=0)"
   ]
  },
  {
   "cell_type": "code",
   "execution_count": 17,
   "metadata": {},
   "outputs": [
    {
     "data": {
      "text/plain": [
       "<tf.Tensor: shape=(546, 30), dtype=float32, numpy=\n",
       "array([[-0.22593747,  0.01139836,  0.12781017, ...,  0.40288052,\n",
       "        -0.15151356, -0.19060554],\n",
       "       [-0.01340592,  0.08161417,  0.04729617, ...,  0.40288052,\n",
       "        -0.15151356, -0.19060554],\n",
       "       [ 0.02056351, -0.10534496,  0.02155205, ..., -0.01647625,\n",
       "        -0.30055016,  0.00258716],\n",
       "       ...,\n",
       "       [-0.22593747,  0.01139836,  0.12781017, ...,  0.40288052,\n",
       "        -0.15151356, -0.19060554],\n",
       "       [-0.01340592,  0.08161417,  0.04729617, ...,  0.40288052,\n",
       "        -0.15151356, -0.19060554],\n",
       "       [-0.07240653,  0.2894254 ,  0.05943493, ...,  0.10376443,\n",
       "         0.15616328,  0.29372868]], dtype=float32)>"
      ]
     },
     "execution_count": 17,
     "metadata": {},
     "output_type": "execute_result"
    }
   ],
   "source": [
    "feature_layer(dict(train_df))"
   ]
  },
  {
   "cell_type": "code",
   "execution_count": 18,
   "metadata": {
    "scrolled": true
   },
   "outputs": [],
   "source": [
    "train_features = {name : np.array(values) for name, values in train_df.items()}\n",
    "train_labels = np.array(train_features.pop('class'))\n",
    "\n",
    "test_features = {name : np.array(values) for name, values in test_df.items()}\n",
    "test_labels = np.array(test_features.pop('class'))"
   ]
  },
  {
   "cell_type": "markdown",
   "metadata": {},
   "source": [
    "**Establish a baseline**"
   ]
  },
  {
   "cell_type": "code",
   "execution_count": 19,
   "metadata": {},
   "outputs": [
    {
     "name": "stdout",
     "output_type": "stream",
     "text": [
      "Lenght: 546, Sum: 175\n",
      "Lenght: 546, Sum: 189\n",
      "Lenght: 546, Sum: 506\n",
      "Baseline accuracy: 0.9267399267399268\n"
     ]
    }
   ],
   "source": [
    "x = train_df['uniformity_of_cell_shape'] > 0.3\n",
    "y = train_df['class'] == 1\n",
    "print('Lenght: {}, Sum: {}'.format(len(x), np.sum(x)))\n",
    "print('Lenght: {}, Sum: {}'.format(len(y), np.sum(y)))\n",
    "\n",
    "s = x == y\n",
    "print('Lenght: {}, Sum: {}'.format(len(s), np.sum(s)))\n",
    "print('Baseline accuracy: {}'.format(np.sum(s) / len(s)))"
   ]
  },
  {
   "cell_type": "markdown",
   "metadata": {},
   "source": [
    "**Train a model**"
   ]
  },
  {
   "cell_type": "code",
   "execution_count": 22,
   "metadata": {
    "scrolled": false
   },
   "outputs": [
    {
     "name": "stdout",
     "output_type": "stream",
     "text": [
      "Epoch 1/80\n",
      "WARNING:tensorflow:Layers in a Sequential model should only have a single input tensor. Received: inputs={'ID': <tf.Tensor 'IteratorGetNext:0' shape=(None,) dtype=int64>, 'clump_thickness': <tf.Tensor 'IteratorGetNext:3' shape=(None,) dtype=float32>, 'uniformity_of_cell_size': <tf.Tensor 'IteratorGetNext:9' shape=(None,) dtype=float32>, 'uniformity_of_cell_shape': <tf.Tensor 'IteratorGetNext:8' shape=(None,) dtype=float32>, 'marginal_adhesion': <tf.Tensor 'IteratorGetNext:4' shape=(None,) dtype=float32>, 'single_epithelial_cell_size': <tf.Tensor 'IteratorGetNext:7' shape=(None,) dtype=float32>, 'bare_nuclei': <tf.Tensor 'IteratorGetNext:1' shape=(None,) dtype=float32>, 'bland_chromatin': <tf.Tensor 'IteratorGetNext:2' shape=(None,) dtype=float32>, 'normal_nucleoli': <tf.Tensor 'IteratorGetNext:6' shape=(None,) dtype=float32>, 'mitoses': <tf.Tensor 'IteratorGetNext:5' shape=(None,) dtype=float32>}. Consider rewriting this model with the Functional API.\n",
      "WARNING:tensorflow:Layers in a Sequential model should only have a single input tensor. Received: inputs={'ID': <tf.Tensor 'IteratorGetNext:0' shape=(None,) dtype=int64>, 'clump_thickness': <tf.Tensor 'IteratorGetNext:3' shape=(None,) dtype=float32>, 'uniformity_of_cell_size': <tf.Tensor 'IteratorGetNext:9' shape=(None,) dtype=float32>, 'uniformity_of_cell_shape': <tf.Tensor 'IteratorGetNext:8' shape=(None,) dtype=float32>, 'marginal_adhesion': <tf.Tensor 'IteratorGetNext:4' shape=(None,) dtype=float32>, 'single_epithelial_cell_size': <tf.Tensor 'IteratorGetNext:7' shape=(None,) dtype=float32>, 'bare_nuclei': <tf.Tensor 'IteratorGetNext:1' shape=(None,) dtype=float32>, 'bland_chromatin': <tf.Tensor 'IteratorGetNext:2' shape=(None,) dtype=float32>, 'normal_nucleoli': <tf.Tensor 'IteratorGetNext:6' shape=(None,) dtype=float32>, 'mitoses': <tf.Tensor 'IteratorGetNext:5' shape=(None,) dtype=float32>}. Consider rewriting this model with the Functional API.\n",
      "WARNING:tensorflow:Layers in a Sequential model should only have a single input tensor. Received: inputs={'ID': <tf.Tensor 'IteratorGetNext:0' shape=(None,) dtype=int64>, 'clump_thickness': <tf.Tensor 'IteratorGetNext:3' shape=(None,) dtype=float32>, 'uniformity_of_cell_size': <tf.Tensor 'IteratorGetNext:9' shape=(None,) dtype=float32>, 'uniformity_of_cell_shape': <tf.Tensor 'IteratorGetNext:8' shape=(None,) dtype=float32>, 'marginal_adhesion': <tf.Tensor 'IteratorGetNext:4' shape=(None,) dtype=float32>, 'single_epithelial_cell_size': <tf.Tensor 'IteratorGetNext:7' shape=(None,) dtype=float32>, 'bare_nuclei': <tf.Tensor 'IteratorGetNext:1' shape=(None,) dtype=float32>, 'bland_chromatin': <tf.Tensor 'IteratorGetNext:2' shape=(None,) dtype=float32>, 'normal_nucleoli': <tf.Tensor 'IteratorGetNext:6' shape=(None,) dtype=float32>, 'mitoses': <tf.Tensor 'IteratorGetNext:5' shape=(None,) dtype=float32>}. Consider rewriting this model with the Functional API.\n",
      "31/31 - 2s - loss: 1.9883 - accuracy: 0.9022 - precision: 0.8281 - recall: 0.9138 - val_loss: 1.7889 - val_accuracy: 0.9455 - val_precision: 0.8750 - val_recall: 0.9333 - 2s/epoch - 60ms/step\n",
      "Epoch 2/80\n",
      "31/31 - 0s - loss: 1.6090 - accuracy: 0.9511 - precision: 0.9630 - recall: 0.8966 - val_loss: 1.5058 - val_accuracy: 0.9455 - val_precision: 0.8750 - val_recall: 0.9333 - 108ms/epoch - 3ms/step\n",
      "Epoch 3/80\n",
      "31/31 - 0s - loss: 1.3452 - accuracy: 0.9511 - precision: 0.9630 - recall: 0.8966 - val_loss: 1.2808 - val_accuracy: 0.9455 - val_precision: 0.8750 - val_recall: 0.9333 - 100ms/epoch - 3ms/step\n",
      "Epoch 4/80\n",
      "31/31 - 0s - loss: 1.1223 - accuracy: 0.9511 - precision: 0.9630 - recall: 0.8966 - val_loss: 1.0864 - val_accuracy: 0.9455 - val_precision: 0.8750 - val_recall: 0.9333 - 99ms/epoch - 3ms/step\n",
      "Epoch 5/80\n",
      "31/31 - 0s - loss: 0.9278 - accuracy: 0.9552 - precision: 0.9578 - recall: 0.9138 - val_loss: 0.9142 - val_accuracy: 0.9455 - val_precision: 0.8750 - val_recall: 0.9333 - 99ms/epoch - 3ms/step\n",
      "Epoch 6/80\n",
      "31/31 - 0s - loss: 0.7568 - accuracy: 0.9593 - precision: 0.9583 - recall: 0.9253 - val_loss: 0.7607 - val_accuracy: 0.9455 - val_precision: 0.8750 - val_recall: 0.9333 - 97ms/epoch - 3ms/step\n",
      "Epoch 7/80\n",
      "31/31 - 0s - loss: 0.6124 - accuracy: 0.9633 - precision: 0.9588 - recall: 0.9368 - val_loss: 0.6372 - val_accuracy: 0.9455 - val_precision: 0.8750 - val_recall: 0.9333 - 97ms/epoch - 3ms/step\n",
      "Epoch 8/80\n",
      "31/31 - 0s - loss: 0.4956 - accuracy: 0.9613 - precision: 0.9532 - recall: 0.9368 - val_loss: 0.5368 - val_accuracy: 0.9455 - val_precision: 0.8750 - val_recall: 0.9333 - 96ms/epoch - 3ms/step\n",
      "Epoch 9/80\n",
      "31/31 - 0s - loss: 0.4046 - accuracy: 0.9613 - precision: 0.9532 - recall: 0.9368 - val_loss: 0.4648 - val_accuracy: 0.9455 - val_precision: 0.8750 - val_recall: 0.9333 - 96ms/epoch - 3ms/step\n",
      "Epoch 10/80\n",
      "31/31 - 0s - loss: 0.3393 - accuracy: 0.9613 - precision: 0.9532 - recall: 0.9368 - val_loss: 0.4159 - val_accuracy: 0.9455 - val_precision: 0.8750 - val_recall: 0.9333 - 94ms/epoch - 3ms/step\n",
      "Epoch 11/80\n",
      "31/31 - 0s - loss: 0.2986 - accuracy: 0.9613 - precision: 0.9532 - recall: 0.9368 - val_loss: 0.3871 - val_accuracy: 0.9455 - val_precision: 0.8750 - val_recall: 0.9333 - 95ms/epoch - 3ms/step\n",
      "Epoch 12/80\n",
      "31/31 - 0s - loss: 0.2741 - accuracy: 0.9613 - precision: 0.9532 - recall: 0.9368 - val_loss: 0.3744 - val_accuracy: 0.9455 - val_precision: 0.8750 - val_recall: 0.9333 - 95ms/epoch - 3ms/step\n",
      "Epoch 13/80\n",
      "31/31 - 0s - loss: 0.2610 - accuracy: 0.9613 - precision: 0.9532 - recall: 0.9368 - val_loss: 0.3657 - val_accuracy: 0.9455 - val_precision: 0.8750 - val_recall: 0.9333 - 93ms/epoch - 3ms/step\n",
      "Epoch 14/80\n",
      "31/31 - 0s - loss: 0.2526 - accuracy: 0.9613 - precision: 0.9532 - recall: 0.9368 - val_loss: 0.3621 - val_accuracy: 0.9455 - val_precision: 0.8750 - val_recall: 0.9333 - 95ms/epoch - 3ms/step\n",
      "Epoch 15/80\n",
      "31/31 - 0s - loss: 0.2456 - accuracy: 0.9613 - precision: 0.9532 - recall: 0.9368 - val_loss: 0.3600 - val_accuracy: 0.9455 - val_precision: 0.8750 - val_recall: 0.9333 - 95ms/epoch - 3ms/step\n",
      "Epoch 16/80\n",
      "31/31 - 0s - loss: 0.2402 - accuracy: 0.9613 - precision: 0.9532 - recall: 0.9368 - val_loss: 0.3535 - val_accuracy: 0.9455 - val_precision: 0.8750 - val_recall: 0.9333 - 93ms/epoch - 3ms/step\n",
      "Epoch 17/80\n",
      "31/31 - 0s - loss: 0.2349 - accuracy: 0.9613 - precision: 0.9532 - recall: 0.9368 - val_loss: 0.3529 - val_accuracy: 0.9455 - val_precision: 0.8750 - val_recall: 0.9333 - 93ms/epoch - 3ms/step\n",
      "Epoch 18/80\n",
      "31/31 - 0s - loss: 0.2303 - accuracy: 0.9613 - precision: 0.9532 - recall: 0.9368 - val_loss: 0.3502 - val_accuracy: 0.9455 - val_precision: 0.8750 - val_recall: 0.9333 - 96ms/epoch - 3ms/step\n",
      "Epoch 19/80\n",
      "31/31 - 0s - loss: 0.2259 - accuracy: 0.9613 - precision: 0.9532 - recall: 0.9368 - val_loss: 0.3481 - val_accuracy: 0.9455 - val_precision: 0.8750 - val_recall: 0.9333 - 91ms/epoch - 3ms/step\n",
      "Epoch 20/80\n",
      "31/31 - 0s - loss: 0.2215 - accuracy: 0.9613 - precision: 0.9532 - recall: 0.9368 - val_loss: 0.3494 - val_accuracy: 0.9455 - val_precision: 0.8750 - val_recall: 0.9333 - 96ms/epoch - 3ms/step\n",
      "Epoch 21/80\n",
      "31/31 - 0s - loss: 0.2183 - accuracy: 0.9613 - precision: 0.9532 - recall: 0.9368 - val_loss: 0.3473 - val_accuracy: 0.9455 - val_precision: 0.8750 - val_recall: 0.9333 - 98ms/epoch - 3ms/step\n",
      "Epoch 22/80\n",
      "31/31 - 0s - loss: 0.2148 - accuracy: 0.9613 - precision: 0.9532 - recall: 0.9368 - val_loss: 0.3441 - val_accuracy: 0.9455 - val_precision: 0.8750 - val_recall: 0.9333 - 94ms/epoch - 3ms/step\n",
      "Epoch 23/80\n",
      "31/31 - 0s - loss: 0.2116 - accuracy: 0.9613 - precision: 0.9532 - recall: 0.9368 - val_loss: 0.3444 - val_accuracy: 0.9455 - val_precision: 0.8750 - val_recall: 0.9333 - 98ms/epoch - 3ms/step\n",
      "Epoch 24/80\n",
      "31/31 - 0s - loss: 0.2092 - accuracy: 0.9613 - precision: 0.9532 - recall: 0.9368 - val_loss: 0.3452 - val_accuracy: 0.9455 - val_precision: 0.8750 - val_recall: 0.9333 - 96ms/epoch - 3ms/step\n",
      "Epoch 25/80\n",
      "31/31 - 0s - loss: 0.2065 - accuracy: 0.9613 - precision: 0.9532 - recall: 0.9368 - val_loss: 0.3465 - val_accuracy: 0.9455 - val_precision: 0.8750 - val_recall: 0.9333 - 95ms/epoch - 3ms/step\n",
      "Epoch 26/80\n",
      "31/31 - 0s - loss: 0.2038 - accuracy: 0.9613 - precision: 0.9532 - recall: 0.9368 - val_loss: 0.3440 - val_accuracy: 0.9455 - val_precision: 0.8750 - val_recall: 0.9333 - 95ms/epoch - 3ms/step\n"
     ]
    },
    {
     "name": "stdout",
     "output_type": "stream",
     "text": [
      "Epoch 27/80\n",
      "31/31 - 0s - loss: 0.2022 - accuracy: 0.9613 - precision: 0.9532 - recall: 0.9368 - val_loss: 0.3440 - val_accuracy: 0.9455 - val_precision: 0.8750 - val_recall: 0.9333 - 101ms/epoch - 3ms/step\n",
      "Epoch 28/80\n",
      "31/31 - 0s - loss: 0.1997 - accuracy: 0.9613 - precision: 0.9532 - recall: 0.9368 - val_loss: 0.3408 - val_accuracy: 0.9455 - val_precision: 0.8750 - val_recall: 0.9333 - 96ms/epoch - 3ms/step\n",
      "Epoch 29/80\n",
      "31/31 - 0s - loss: 0.1975 - accuracy: 0.9633 - precision: 0.9535 - recall: 0.9425 - val_loss: 0.3376 - val_accuracy: 0.9455 - val_precision: 0.8750 - val_recall: 0.9333 - 96ms/epoch - 3ms/step\n",
      "Epoch 30/80\n",
      "31/31 - 0s - loss: 0.1953 - accuracy: 0.9613 - precision: 0.9480 - recall: 0.9425 - val_loss: 0.3375 - val_accuracy: 0.9455 - val_precision: 0.8750 - val_recall: 0.9333 - 98ms/epoch - 3ms/step\n",
      "Epoch 31/80\n",
      "31/31 - 0s - loss: 0.1934 - accuracy: 0.9633 - precision: 0.9535 - recall: 0.9425 - val_loss: 0.3392 - val_accuracy: 0.9455 - val_precision: 0.8750 - val_recall: 0.9333 - 96ms/epoch - 3ms/step\n",
      "Epoch 32/80\n",
      "31/31 - 0s - loss: 0.1919 - accuracy: 0.9633 - precision: 0.9535 - recall: 0.9425 - val_loss: 0.3383 - val_accuracy: 0.9455 - val_precision: 0.8750 - val_recall: 0.9333 - 96ms/epoch - 3ms/step\n",
      "Epoch 33/80\n",
      "31/31 - 0s - loss: 0.1902 - accuracy: 0.9613 - precision: 0.9532 - recall: 0.9368 - val_loss: 0.3383 - val_accuracy: 0.9455 - val_precision: 0.8750 - val_recall: 0.9333 - 93ms/epoch - 3ms/step\n",
      "Epoch 34/80\n",
      "31/31 - 0s - loss: 0.1890 - accuracy: 0.9633 - precision: 0.9535 - recall: 0.9425 - val_loss: 0.3383 - val_accuracy: 0.9455 - val_precision: 0.8750 - val_recall: 0.9333 - 91ms/epoch - 3ms/step\n",
      "Epoch 35/80\n",
      "31/31 - 0s - loss: 0.1872 - accuracy: 0.9613 - precision: 0.9532 - recall: 0.9368 - val_loss: 0.3440 - val_accuracy: 0.9455 - val_precision: 0.8750 - val_recall: 0.9333 - 95ms/epoch - 3ms/step\n",
      "Epoch 36/80\n",
      "31/31 - 0s - loss: 0.1863 - accuracy: 0.9633 - precision: 0.9535 - recall: 0.9425 - val_loss: 0.3375 - val_accuracy: 0.9455 - val_precision: 0.8750 - val_recall: 0.9333 - 97ms/epoch - 3ms/step\n",
      "Epoch 37/80\n",
      "31/31 - 0s - loss: 0.1849 - accuracy: 0.9633 - precision: 0.9535 - recall: 0.9425 - val_loss: 0.3374 - val_accuracy: 0.9455 - val_precision: 0.8750 - val_recall: 0.9333 - 100ms/epoch - 3ms/step\n",
      "Epoch 38/80\n",
      "31/31 - 0s - loss: 0.1836 - accuracy: 0.9613 - precision: 0.9532 - recall: 0.9368 - val_loss: 0.3387 - val_accuracy: 0.9455 - val_precision: 0.8750 - val_recall: 0.9333 - 95ms/epoch - 3ms/step\n",
      "Epoch 39/80\n",
      "31/31 - 0s - loss: 0.1825 - accuracy: 0.9633 - precision: 0.9535 - recall: 0.9425 - val_loss: 0.3410 - val_accuracy: 0.9455 - val_precision: 0.8750 - val_recall: 0.9333 - 94ms/epoch - 3ms/step\n",
      "Epoch 40/80\n",
      "31/31 - 0s - loss: 0.1811 - accuracy: 0.9633 - precision: 0.9535 - recall: 0.9425 - val_loss: 0.3406 - val_accuracy: 0.9455 - val_precision: 0.8750 - val_recall: 0.9333 - 96ms/epoch - 3ms/step\n",
      "Epoch 41/80\n",
      "31/31 - 0s - loss: 0.1796 - accuracy: 0.9633 - precision: 0.9483 - recall: 0.9483 - val_loss: 0.3372 - val_accuracy: 0.9455 - val_precision: 0.8750 - val_recall: 0.9333 - 99ms/epoch - 3ms/step\n",
      "Epoch 42/80\n",
      "31/31 - 0s - loss: 0.1783 - accuracy: 0.9613 - precision: 0.9480 - recall: 0.9425 - val_loss: 0.3338 - val_accuracy: 0.9455 - val_precision: 0.8750 - val_recall: 0.9333 - 97ms/epoch - 3ms/step\n",
      "Epoch 43/80\n",
      "31/31 - 0s - loss: 0.1769 - accuracy: 0.9613 - precision: 0.9480 - recall: 0.9425 - val_loss: 0.3361 - val_accuracy: 0.9455 - val_precision: 0.8750 - val_recall: 0.9333 - 98ms/epoch - 3ms/step\n",
      "Epoch 44/80\n",
      "31/31 - 0s - loss: 0.1755 - accuracy: 0.9654 - precision: 0.9538 - recall: 0.9483 - val_loss: 0.3332 - val_accuracy: 0.9455 - val_precision: 0.8750 - val_recall: 0.9333 - 95ms/epoch - 3ms/step\n",
      "Epoch 45/80\n",
      "31/31 - 0s - loss: 0.1742 - accuracy: 0.9633 - precision: 0.9535 - recall: 0.9425 - val_loss: 0.3330 - val_accuracy: 0.9455 - val_precision: 0.8750 - val_recall: 0.9333 - 94ms/epoch - 3ms/step\n",
      "Epoch 46/80\n",
      "31/31 - 0s - loss: 0.1726 - accuracy: 0.9654 - precision: 0.9538 - recall: 0.9483 - val_loss: 0.3346 - val_accuracy: 0.9455 - val_precision: 0.8750 - val_recall: 0.9333 - 95ms/epoch - 3ms/step\n",
      "Epoch 47/80\n",
      "31/31 - 0s - loss: 0.1714 - accuracy: 0.9613 - precision: 0.9480 - recall: 0.9425 - val_loss: 0.3301 - val_accuracy: 0.9455 - val_precision: 0.8750 - val_recall: 0.9333 - 96ms/epoch - 3ms/step\n",
      "Epoch 48/80\n",
      "31/31 - 0s - loss: 0.1694 - accuracy: 0.9633 - precision: 0.9483 - recall: 0.9483 - val_loss: 0.3301 - val_accuracy: 0.9455 - val_precision: 0.8750 - val_recall: 0.9333 - 99ms/epoch - 3ms/step\n",
      "Epoch 49/80\n",
      "31/31 - 0s - loss: 0.1689 - accuracy: 0.9633 - precision: 0.9483 - recall: 0.9483 - val_loss: 0.3279 - val_accuracy: 0.9455 - val_precision: 0.8750 - val_recall: 0.9333 - 98ms/epoch - 3ms/step\n",
      "Epoch 50/80\n",
      "31/31 - 0s - loss: 0.1669 - accuracy: 0.9633 - precision: 0.9535 - recall: 0.9425 - val_loss: 0.3330 - val_accuracy: 0.9455 - val_precision: 0.8750 - val_recall: 0.9333 - 97ms/epoch - 3ms/step\n",
      "Epoch 51/80\n",
      "31/31 - 0s - loss: 0.1669 - accuracy: 0.9633 - precision: 0.9483 - recall: 0.9483 - val_loss: 0.3292 - val_accuracy: 0.9455 - val_precision: 0.8750 - val_recall: 0.9333 - 94ms/epoch - 3ms/step\n",
      "Epoch 52/80\n",
      "31/31 - 0s - loss: 0.1651 - accuracy: 0.9633 - precision: 0.9483 - recall: 0.9483 - val_loss: 0.3265 - val_accuracy: 0.9455 - val_precision: 0.8750 - val_recall: 0.9333 - 96ms/epoch - 3ms/step\n",
      "Epoch 53/80\n",
      "31/31 - 0s - loss: 0.1643 - accuracy: 0.9633 - precision: 0.9535 - recall: 0.9425 - val_loss: 0.3280 - val_accuracy: 0.9455 - val_precision: 0.8750 - val_recall: 0.9333 - 99ms/epoch - 3ms/step\n",
      "Epoch 54/80\n",
      "31/31 - 0s - loss: 0.1633 - accuracy: 0.9633 - precision: 0.9535 - recall: 0.9425 - val_loss: 0.3331 - val_accuracy: 0.9455 - val_precision: 0.8750 - val_recall: 0.9333 - 100ms/epoch - 3ms/step\n",
      "Epoch 55/80\n",
      "31/31 - 0s - loss: 0.1624 - accuracy: 0.9613 - precision: 0.9429 - recall: 0.9483 - val_loss: 0.3295 - val_accuracy: 0.9455 - val_precision: 0.8750 - val_recall: 0.9333 - 101ms/epoch - 3ms/step\n",
      "Epoch 56/80\n",
      "31/31 - 0s - loss: 0.1615 - accuracy: 0.9633 - precision: 0.9483 - recall: 0.9483 - val_loss: 0.3269 - val_accuracy: 0.9455 - val_precision: 0.8750 - val_recall: 0.9333 - 95ms/epoch - 3ms/step\n",
      "Epoch 57/80\n",
      "31/31 - 0s - loss: 0.1612 - accuracy: 0.9633 - precision: 0.9483 - recall: 0.9483 - val_loss: 0.3246 - val_accuracy: 0.9455 - val_precision: 0.8750 - val_recall: 0.9333 - 96ms/epoch - 3ms/step\n",
      "Epoch 58/80\n",
      "31/31 - 0s - loss: 0.1600 - accuracy: 0.9613 - precision: 0.9480 - recall: 0.9425 - val_loss: 0.3232 - val_accuracy: 0.9455 - val_precision: 0.8750 - val_recall: 0.9333 - 97ms/epoch - 3ms/step\n",
      "Epoch 59/80\n",
      "31/31 - 0s - loss: 0.1598 - accuracy: 0.9613 - precision: 0.9480 - recall: 0.9425 - val_loss: 0.3248 - val_accuracy: 0.9455 - val_precision: 0.8750 - val_recall: 0.9333 - 95ms/epoch - 3ms/step\n",
      "Epoch 60/80\n",
      "31/31 - 0s - loss: 0.1586 - accuracy: 0.9633 - precision: 0.9483 - recall: 0.9483 - val_loss: 0.3308 - val_accuracy: 0.9455 - val_precision: 0.8750 - val_recall: 0.9333 - 96ms/epoch - 3ms/step\n",
      "Epoch 61/80\n",
      "31/31 - 0s - loss: 0.1580 - accuracy: 0.9633 - precision: 0.9483 - recall: 0.9483 - val_loss: 0.3291 - val_accuracy: 0.9455 - val_precision: 0.8750 - val_recall: 0.9333 - 98ms/epoch - 3ms/step\n",
      "Epoch 62/80\n",
      "31/31 - 0s - loss: 0.1567 - accuracy: 0.9633 - precision: 0.9483 - recall: 0.9483 - val_loss: 0.3288 - val_accuracy: 0.9455 - val_precision: 0.8750 - val_recall: 0.9333 - 97ms/epoch - 3ms/step\n",
      "Epoch 63/80\n",
      "31/31 - 0s - loss: 0.1573 - accuracy: 0.9633 - precision: 0.9483 - recall: 0.9483 - val_loss: 0.3262 - val_accuracy: 0.9455 - val_precision: 0.8750 - val_recall: 0.9333 - 95ms/epoch - 3ms/step\n",
      "Epoch 64/80\n",
      "31/31 - 0s - loss: 0.1560 - accuracy: 0.9633 - precision: 0.9483 - recall: 0.9483 - val_loss: 0.3255 - val_accuracy: 0.9455 - val_precision: 0.8750 - val_recall: 0.9333 - 95ms/epoch - 3ms/step\n",
      "Epoch 65/80\n",
      "31/31 - 0s - loss: 0.1553 - accuracy: 0.9613 - precision: 0.9480 - recall: 0.9425 - val_loss: 0.3271 - val_accuracy: 0.9455 - val_precision: 0.8750 - val_recall: 0.9333 - 95ms/epoch - 3ms/step\n",
      "Epoch 66/80\n",
      "31/31 - 0s - loss: 0.1547 - accuracy: 0.9633 - precision: 0.9483 - recall: 0.9483 - val_loss: 0.3254 - val_accuracy: 0.9455 - val_precision: 0.8750 - val_recall: 0.9333 - 95ms/epoch - 3ms/step\n"
     ]
    },
    {
     "name": "stdout",
     "output_type": "stream",
     "text": [
      "Epoch 67/80\n",
      "31/31 - 0s - loss: 0.1536 - accuracy: 0.9633 - precision: 0.9483 - recall: 0.9483 - val_loss: 0.3244 - val_accuracy: 0.9455 - val_precision: 0.8750 - val_recall: 0.9333 - 99ms/epoch - 3ms/step\n",
      "Epoch 68/80\n",
      "31/31 - 0s - loss: 0.1534 - accuracy: 0.9633 - precision: 0.9483 - recall: 0.9483 - val_loss: 0.3258 - val_accuracy: 0.9455 - val_precision: 0.8750 - val_recall: 0.9333 - 98ms/epoch - 3ms/step\n",
      "Epoch 69/80\n",
      "31/31 - 0s - loss: 0.1530 - accuracy: 0.9613 - precision: 0.9480 - recall: 0.9425 - val_loss: 0.3220 - val_accuracy: 0.9455 - val_precision: 0.8750 - val_recall: 0.9333 - 93ms/epoch - 3ms/step\n",
      "Epoch 70/80\n",
      "31/31 - 0s - loss: 0.1521 - accuracy: 0.9633 - precision: 0.9483 - recall: 0.9483 - val_loss: 0.3251 - val_accuracy: 0.9455 - val_precision: 0.8750 - val_recall: 0.9333 - 95ms/epoch - 3ms/step\n",
      "Epoch 71/80\n",
      "31/31 - 0s - loss: 0.1516 - accuracy: 0.9633 - precision: 0.9483 - recall: 0.9483 - val_loss: 0.3240 - val_accuracy: 0.9455 - val_precision: 0.8750 - val_recall: 0.9333 - 94ms/epoch - 3ms/step\n",
      "Epoch 72/80\n",
      "31/31 - 0s - loss: 0.1514 - accuracy: 0.9633 - precision: 0.9483 - recall: 0.9483 - val_loss: 0.3258 - val_accuracy: 0.9455 - val_precision: 0.8750 - val_recall: 0.9333 - 91ms/epoch - 3ms/step\n",
      "Epoch 73/80\n",
      "31/31 - 0s - loss: 0.1506 - accuracy: 0.9633 - precision: 0.9483 - recall: 0.9483 - val_loss: 0.3266 - val_accuracy: 0.9455 - val_precision: 0.8750 - val_recall: 0.9333 - 94ms/epoch - 3ms/step\n",
      "Epoch 74/80\n",
      "31/31 - 0s - loss: 0.1505 - accuracy: 0.9633 - precision: 0.9483 - recall: 0.9483 - val_loss: 0.3236 - val_accuracy: 0.9455 - val_precision: 0.8750 - val_recall: 0.9333 - 95ms/epoch - 3ms/step\n",
      "Epoch 75/80\n",
      "31/31 - 0s - loss: 0.1502 - accuracy: 0.9633 - precision: 0.9483 - recall: 0.9483 - val_loss: 0.3269 - val_accuracy: 0.9455 - val_precision: 0.8750 - val_recall: 0.9333 - 95ms/epoch - 3ms/step\n",
      "Epoch 76/80\n",
      "31/31 - 0s - loss: 0.1492 - accuracy: 0.9633 - precision: 0.9483 - recall: 0.9483 - val_loss: 0.3286 - val_accuracy: 0.9455 - val_precision: 0.8750 - val_recall: 0.9333 - 97ms/epoch - 3ms/step\n",
      "Epoch 77/80\n",
      "31/31 - 0s - loss: 0.1491 - accuracy: 0.9633 - precision: 0.9483 - recall: 0.9483 - val_loss: 0.3263 - val_accuracy: 0.9455 - val_precision: 0.8750 - val_recall: 0.9333 - 99ms/epoch - 3ms/step\n",
      "Epoch 78/80\n",
      "31/31 - 0s - loss: 0.1493 - accuracy: 0.9633 - precision: 0.9483 - recall: 0.9483 - val_loss: 0.3256 - val_accuracy: 0.9455 - val_precision: 0.8750 - val_recall: 0.9333 - 97ms/epoch - 3ms/step\n",
      "Epoch 79/80\n",
      "31/31 - 0s - loss: 0.1480 - accuracy: 0.9633 - precision: 0.9483 - recall: 0.9483 - val_loss: 0.3218 - val_accuracy: 0.9455 - val_precision: 0.8750 - val_recall: 0.9333 - 99ms/epoch - 3ms/step\n",
      "Epoch 80/80\n",
      "31/31 - 0s - loss: 0.1476 - accuracy: 0.9633 - precision: 0.9483 - recall: 0.9483 - val_loss: 0.3257 - val_accuracy: 0.9455 - val_precision: 0.8750 - val_recall: 0.9333 - 94ms/epoch - 3ms/step\n"
     ]
    },
    {
     "data": {
      "image/png": "[encoded data removed]",
      "text/plain": [
       "<Figure size 640x480 with 1 Axes>"
      ]
     },
     "metadata": {},
     "output_type": "display_data"
    },
    {
     "data": {
      "image/png": "[encoded data removed]",
      "text/plain": [
       "<Figure size 640x480 with 1 Axes>"
      ]
     },
     "metadata": {},
     "output_type": "display_data"
    }
   ],
   "source": [
    "model = None\n",
    "\n",
    "epochs = 80\n",
    "batch_size = 16\n",
    "learning_rate = 0.001\n",
    "classification_threshold = 0.5\n",
    "metrics = [tf.keras.metrics.BinaryAccuracy(name='accuracy', \n",
    "                                           threshold=classification_threshold),\n",
    "           tf.keras.metrics.Precision(name='precision', \n",
    "                                      thresholds=classification_threshold),\n",
    "           tf.keras.metrics.Recall(name=\"recall\",\n",
    "                                   thresholds=classification_threshold)]\n",
    "\n",
    "regularization = tf.keras.regularizers.l1(l1=0.008)\n",
    "\n",
    "# Create a model\n",
    "model = tf.keras.models.Sequential([\n",
    "    feature_layer,\n",
    "    tf.keras.layers.Dense(units=30, activation='relu', kernel_regularizer=regularization, input_shape=(1,)),\n",
    "#     tf.keras.layers.Dropout(0.4),\n",
    "#     tf.keras.layers.Dense(units=30, activation='relu', kernel_regularizer=regularization),\n",
    "#     tf.keras.layers.Dropout(0.4),\n",
    "    tf.keras.layers.Dense(units=12, activation='relu', kernel_regularizer=regularization),\n",
    "#     tf.keras.layers.Dropout(0.4),\n",
    "    tf.keras.layers.Dense(units=1, activation='sigmoid')])\n",
    "\n",
    "model.compile(optimizer=tf.keras.optimizers.RMSprop(learning_rate=learning_rate),\n",
    "              loss=tf.keras.losses.BinaryCrossentropy(),\n",
    "              metrics=metrics)\n",
    "\n",
    "# Train the model\n",
    "history = model.fit(x=train_features, y=train_labels, batch_size=batch_size, epochs=epochs,\n",
    "                    shuffle=True, validation_split=0.1, verbose=2)\n",
    "\n",
    "epochs, history = history.epoch, pd.DataFrame(history.history)\n",
    "\n",
    "train_history = history.values[:, :4]\n",
    "validation_history = history.values[:, 4:]\n",
    "\n",
    "# Plot training stats\n",
    "plt.plot(epochs[1:], train_history[1:])\n",
    "plt.title('Training stats')\n",
    "plt.xlabel('Epochs')\n",
    "plt.ylabel('Value')\n",
    "plt.legend(['Loss', 'Accuracy', 'Precision', 'Recall'])\n",
    "plt.show()\n",
    "\n",
    "# Plot validation stats\n",
    "plt.plot(epochs[1:], validation_history[1:])\n",
    "plt.title('Validation stats')\n",
    "plt.xlabel('Epochs')\n",
    "plt.ylabel('Value')\n",
    "plt.legend(['Loss', 'Accuracy', 'Precision', 'Recall'])\n",
    "plt.show()"
   ]
  },
  {
   "cell_type": "markdown",
   "metadata": {},
   "source": [
    "# Test the model"
   ]
  },
  {
   "cell_type": "code",
   "execution_count": 23,
   "metadata": {},
   "outputs": [
    {
     "name": "stdout",
     "output_type": "stream",
     "text": [
      "9/9 [==============================] - 0s 2ms/step - loss: 0.1817 - accuracy: 0.9632 - precision: 0.9592 - recall: 0.9400\n"
     ]
    },
    {
     "data": {
      "text/plain": [
       "[0.18172167241573334,\n",
       " 0.9632353186607361,\n",
       " 0.9591836929321289,\n",
       " 0.9399999976158142]"
      ]
     },
     "execution_count": 23,
     "metadata": {},
     "output_type": "execute_result"
    }
   ],
   "source": [
    "model.evaluate(x=test_features, y=test_labels, batch_size=batch_size)"
   ]
  },
  {
   "cell_type": "code",
   "execution_count": null,
   "metadata": {},
   "outputs": [],
   "source": []
  }
 ],
 "metadata": {
  "kernelspec": {
   "display_name": "Python 3",
   "language": "python",
   "name": "python3"
  },
  "language_info": {
   "codemirror_mode": {
    "name": "ipython",
    "version": 3
   },
   "file_extension": ".py",
   "mimetype": "text/x-python",
   "name": "python",
   "nbconvert_exporter": "python",
   "pygments_lexer": "ipython3",
   "version": "3.8.10"
  }
 },
 "nbformat": 4,
 "nbformat_minor": 2
}

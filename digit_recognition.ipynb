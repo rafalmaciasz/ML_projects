{
 "cells": [
  {
   "cell_type": "markdown",
   "metadata": {},
   "source": [
    "Import necessary modules"
   ]
  },
  {
   "cell_type": "code",
   "execution_count": 1,
   "metadata": {},
   "outputs": [],
   "source": [
    "import tensorflow as tf\n",
    "import numpy as np\n",
    "import random\n",
    "import matplotlib.pyplot as plt"
   ]
  },
  {
   "cell_type": "markdown",
   "metadata": {},
   "source": [
    "Load data set"
   ]
  },
  {
   "cell_type": "code",
   "execution_count": 2,
   "metadata": {},
   "outputs": [],
   "source": [
    "digit_dataset = tf.keras.datasets.mnist\n",
    "(train_f, train_l), (test_f, test_l) = digit_dataset.load_data()"
   ]
  },
  {
   "cell_type": "markdown",
   "metadata": {},
   "source": [
    "Dataset information"
   ]
  },
  {
   "cell_type": "code",
   "execution_count": 3,
   "metadata": {},
   "outputs": [
    {
     "name": "stdout",
     "output_type": "stream",
     "text": [
      "60000\n"
     ]
    },
    {
     "data": {
      "text/plain": [
       "(28, 28)"
      ]
     },
     "execution_count": 3,
     "metadata": {},
     "output_type": "execute_result"
    }
   ],
   "source": [
    "print(len(train_f))\n",
    "train_f[0].shape"
   ]
  },
  {
   "cell_type": "markdown",
   "metadata": {},
   "source": [
    "Normalize dataset values to range of (0, 1)"
   ]
  },
  {
   "cell_type": "code",
   "execution_count": 4,
   "metadata": {},
   "outputs": [
    {
     "name": "stdout",
     "output_type": "stream",
     "text": [
      "[0.         0.         0.         0.         0.         0.\n",
      " 0.         0.         0.         0.05490196 0.00392157 0.60392157\n",
      " 0.99215686 0.35294118 0.         0.         0.         0.\n",
      " 0.         0.         0.         0.         0.         0.\n",
      " 0.         0.         0.         0.        ]\n"
     ]
    }
   ],
   "source": [
    "train_f = train_f / 255\n",
    "test_f = test_f / 255\n",
    "print(train_f[0][10])"
   ]
  },
  {
   "cell_type": "markdown",
   "metadata": {},
   "source": [
    "Display dataset"
   ]
  },
  {
   "cell_type": "code",
   "execution_count": 5,
   "metadata": {},
   "outputs": [
    {
     "data": {
      "image/png": "[encoded data removed]",
      "text/plain": [
       "<Figure size 640x480 with 5 Axes>"
      ]
     },
     "metadata": {},
     "output_type": "display_data"
    }
   ],
   "source": [
    "fig, axs = plt.subplots(1, 5)\n",
    "for i in range(5):\n",
    "    axs[i].imshow(train_f[i])\n",
    "    axs[i].axis('off')\n",
    "plt.show()"
   ]
  },
  {
   "cell_type": "markdown",
   "metadata": {},
   "source": [
    "Define a function to create a model"
   ]
  },
  {
   "cell_type": "code",
   "execution_count": 6,
   "metadata": {},
   "outputs": [],
   "source": [
    "def create_model(learning_rate, metrics):\n",
    "    model = tf.keras.Sequential([\n",
    "        tf.keras.layers.Flatten(input_shape=(28, 28)),\n",
    "        tf.keras.layers.Dense(128, activation='relu'),\n",
    "        tf.keras.layers.Dense(32, activation='relu'),\n",
    "        tf.keras.layers.Dropout(rate=0.4),\n",
    "        tf.keras.layers.Dense(10, activation='softmax')\n",
    "    ])\n",
    "    model.compile(\n",
    "        optimizer=tf.keras.optimizers.Adam(learning_rate=learning_rate),\n",
    "        loss=tf.keras.losses.SparseCategoricalCrossentropy(),\n",
    "        metrics=metrics\n",
    "    )\n",
    "    return model"
   ]
  },
  {
   "cell_type": "markdown",
   "metadata": {},
   "source": [
    "Build a model"
   ]
  },
  {
   "cell_type": "code",
   "execution_count": 7,
   "metadata": {},
   "outputs": [],
   "source": [
    "learning_rate = 0.0005\n",
    "metrics = ['accuracy']\n",
    "model = create_model(learning_rate, metrics)"
   ]
  },
  {
   "cell_type": "markdown",
   "metadata": {},
   "source": [
    "Train the model"
   ]
  },
  {
   "cell_type": "code",
   "execution_count": 8,
   "metadata": {},
   "outputs": [
    {
     "name": "stdout",
     "output_type": "stream",
     "text": [
      "Epoch 1/15\n",
      "300/300 [==============================] - 1s 3ms/step - loss: 0.8443 - accuracy: 0.7449\n",
      "Epoch 2/15\n",
      "300/300 [==============================] - 1s 3ms/step - loss: 0.4000 - accuracy: 0.8859\n",
      "Epoch 3/15\n",
      "300/300 [==============================] - 1s 3ms/step - loss: 0.3067 - accuracy: 0.9135\n",
      "Epoch 4/15\n",
      "300/300 [==============================] - 1s 3ms/step - loss: 0.2564 - accuracy: 0.9294\n",
      "Epoch 5/15\n",
      "300/300 [==============================] - 1s 3ms/step - loss: 0.2234 - accuracy: 0.9377\n",
      "Epoch 6/15\n",
      "300/300 [==============================] - 1s 3ms/step - loss: 0.1964 - accuracy: 0.9452\n",
      "Epoch 7/15\n",
      "300/300 [==============================] - 1s 3ms/step - loss: 0.1780 - accuracy: 0.9500\n",
      "Epoch 8/15\n",
      "300/300 [==============================] - 1s 3ms/step - loss: 0.1600 - accuracy: 0.9561\n",
      "Epoch 9/15\n",
      "300/300 [==============================] - 1s 3ms/step - loss: 0.1481 - accuracy: 0.9581\n",
      "Epoch 10/15\n",
      "300/300 [==============================] - 1s 3ms/step - loss: 0.1374 - accuracy: 0.9615\n",
      "Epoch 11/15\n",
      "300/300 [==============================] - 1s 3ms/step - loss: 0.1263 - accuracy: 0.9641\n",
      "Epoch 12/15\n",
      "300/300 [==============================] - 1s 3ms/step - loss: 0.1172 - accuracy: 0.9663\n",
      "Epoch 13/15\n",
      "300/300 [==============================] - 1s 3ms/step - loss: 0.1103 - accuracy: 0.9679\n",
      "Epoch 14/15\n",
      "300/300 [==============================] - 1s 3ms/step - loss: 0.1052 - accuracy: 0.9703\n",
      "Epoch 15/15\n",
      "300/300 [==============================] - 1s 3ms/step - loss: 0.0975 - accuracy: 0.9722\n"
     ]
    }
   ],
   "source": [
    "epochs = 15\n",
    "batch_size = 200\n",
    "history = model.fit(train_f, train_l, batch_size=batch_size, epochs=epochs)"
   ]
  },
  {
   "cell_type": "markdown",
   "metadata": {},
   "source": [
    "Plot training history"
   ]
  },
  {
   "cell_type": "code",
   "execution_count": 9,
   "metadata": {},
   "outputs": [
    {
     "data": {
      "image/png": "[encoded data removed]",
      "text/plain": [
       "<Figure size 600x300 with 2 Axes>"
      ]
     },
     "metadata": {},
     "output_type": "display_data"
    }
   ],
   "source": [
    "fig, axs = plt.subplots(1, 2, figsize=(6, 3))\n",
    "axs[0].plot(history.epoch, history.history['loss'])\n",
    "axs[0].set_title('Loss')\n",
    "axs[0].set_xlabel('Epochs')\n",
    "axs[1].plot(history.epoch, history.history['accuracy'])\n",
    "axs[1].set_title('Accuracy')\n",
    "axs[1].set_xlabel('Epochs')\n",
    "plt.show()"
   ]
  },
  {
   "cell_type": "markdown",
   "metadata": {},
   "source": [
    "Evaluate the model"
   ]
  },
  {
   "cell_type": "code",
   "execution_count": 10,
   "metadata": {},
   "outputs": [
    {
     "name": "stdout",
     "output_type": "stream",
     "text": [
      "313/313 [==============================] - 1s 1ms/step - loss: 0.0867 - accuracy: 0.9730\n",
      "The loss is: 0.08671671897172928 | The accuracy is: 0.9729999899864197\n"
     ]
    }
   ],
   "source": [
    "model_loss, model_accuracy = model.evaluate(test_f, test_l)\n",
    "print(\"The loss is: {} | The accuracy is: {}\".format(model_loss, model_accuracy))"
   ]
  },
  {
   "cell_type": "markdown",
   "metadata": {},
   "source": [
    "Make predictions"
   ]
  },
  {
   "cell_type": "code",
   "execution_count": 11,
   "metadata": {},
   "outputs": [
    {
     "name": "stdout",
     "output_type": "stream",
     "text": [
      "313/313 [==============================] - 0s 1ms/step\n",
      "[6.4064659e-07 4.2102333e-06 1.5884324e-04 8.5170599e-05 5.6240020e-07\n",
      " 1.0468452e-06 1.8544918e-08 9.9974072e-01 3.9896413e-06 4.8086272e-06]\n"
     ]
    }
   ],
   "source": [
    "predictions = model.predict(test_f)\n",
    "print(predictions[0])"
   ]
  },
  {
   "cell_type": "markdown",
   "metadata": {},
   "source": [
    "Show result of predictions"
   ]
  },
  {
   "cell_type": "code",
   "execution_count": 49,
   "metadata": {},
   "outputs": [
    {
     "data": {
      "image/png": "[encoded data removed]",
      "text/plain": [
       "<Figure size 1000x1000 with 3 Axes>"
      ]
     },
     "metadata": {},
     "output_type": "display_data"
    }
   ],
   "source": [
    "output_classes = ['0', '1', '2', '3', '4', '5', '6', '7', '8', '9']\n",
    "fig, axs = plt.subplots(1, 3, figsize=(10, 10))\n",
    "for i in range(3):\n",
    "    idx = random.randint(0, len(test_f))\n",
    "    axs[i].imshow(test_f[idx], 'gray')\n",
    "    axs[i].set_title('Prediction: {} | Label: {}'.format(output_classes[np.argmax(predictions[idx])], test_l[idx]))\n",
    "    axs[i].axis('off')\n",
    "plt.show()"
   ]
  }
 ],
 "metadata": {
  "kernelspec": {
   "display_name": "Python 3",
   "language": "python",
   "name": "python3"
  },
  "language_info": {
   "codemirror_mode": {
    "name": "ipython",
    "version": 3
   },
   "file_extension": ".py",
   "mimetype": "text/x-python",
   "name": "python",
   "nbconvert_exporter": "python",
   "pygments_lexer": "ipython3",
   "version": "3.8.10"
  }
 },
 "nbformat": 4,
 "nbformat_minor": 2
}

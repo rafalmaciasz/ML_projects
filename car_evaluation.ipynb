{
 "cells": [
  {
   "cell_type": "markdown",
   "metadata": {},
   "source": [
    "# Car Evaluation"
   ]
  },
  {
   "cell_type": "code",
   "execution_count": 1,
   "metadata": {},
   "outputs": [
    {
     "data": {
      "text/html": [
       "<div>\n",
       "<style scoped>\n",
       "    .dataframe tbody tr th:only-of-type {\n",
       "        vertical-align: middle;\n",
       "    }\n",
       "\n",
       "    .dataframe tbody tr th {\n",
       "        vertical-align: top;\n",
       "    }\n",
       "\n",
       "    .dataframe thead th {\n",
       "        text-align: right;\n",
       "    }\n",
       "</style>\n",
       "<table border=\"1\" class=\"dataframe\">\n",
       "  <thead>\n",
       "    <tr style=\"text-align: right;\">\n",
       "      <th></th>\n",
       "      <th>buying</th>\n",
       "      <th>maint</th>\n",
       "      <th>doors</th>\n",
       "      <th>persons</th>\n",
       "      <th>lug_boot</th>\n",
       "      <th>safety</th>\n",
       "      <th>class</th>\n",
       "    </tr>\n",
       "  </thead>\n",
       "  <tbody>\n",
       "    <tr>\n",
       "      <th>count</th>\n",
       "      <td>1727</td>\n",
       "      <td>1727</td>\n",
       "      <td>1727</td>\n",
       "      <td>1727</td>\n",
       "      <td>1727</td>\n",
       "      <td>1727</td>\n",
       "      <td>1727</td>\n",
       "    </tr>\n",
       "    <tr>\n",
       "      <th>unique</th>\n",
       "      <td>4</td>\n",
       "      <td>4</td>\n",
       "      <td>4</td>\n",
       "      <td>3</td>\n",
       "      <td>3</td>\n",
       "      <td>3</td>\n",
       "      <td>4</td>\n",
       "    </tr>\n",
       "    <tr>\n",
       "      <th>top</th>\n",
       "      <td>med</td>\n",
       "      <td>med</td>\n",
       "      <td>3</td>\n",
       "      <td>4</td>\n",
       "      <td>med</td>\n",
       "      <td>high</td>\n",
       "      <td>unacc</td>\n",
       "    </tr>\n",
       "    <tr>\n",
       "      <th>freq</th>\n",
       "      <td>432</td>\n",
       "      <td>432</td>\n",
       "      <td>432</td>\n",
       "      <td>576</td>\n",
       "      <td>576</td>\n",
       "      <td>576</td>\n",
       "      <td>1209</td>\n",
       "    </tr>\n",
       "  </tbody>\n",
       "</table>\n",
       "</div>"
      ],
      "text/plain": [
       "       buying maint doors persons lug_boot safety  class\n",
       "count    1727  1727  1727    1727     1727   1727   1727\n",
       "unique      4     4     4       3        3      3      4\n",
       "top       med   med     3       4      med   high  unacc\n",
       "freq      432   432   432     576      576    576   1209"
      ]
     },
     "execution_count": 1,
     "metadata": {},
     "output_type": "execute_result"
    }
   ],
   "source": [
    "try:\n",
    "    import pandas as pd\n",
    "except:\n",
    "    !pip install pandas\n",
    "    import pandas as pd\n",
    "    \n",
    "import tensorflow as tf\n",
    "import numpy as np\n",
    "import matplotlib.pyplot as plt\n",
    "\n",
    "dataset = pd.read_csv(\"car.csv\", encoding='latin')\n",
    "pd.options.display.max_rows = 10\n",
    "pd.options.display.float_format = '{:.3f}'.format\n",
    "\n",
    "dataset.columns = ['buying', 'maint', 'doors', 'persons', 'lug_boot', 'safety', 'class']\n",
    "dataset = dataset.reindex(np.random.permutation(dataset.index))\n",
    "dataset.describe()"
   ]
  },
  {
   "cell_type": "markdown",
   "metadata": {},
   "source": [
    "**Car Evaluation Data Set**\n",
    "\n",
    "Creator:\n",
    "\n",
    "Marko Bohanec\n",
    "\n",
    "Donors:\n",
    "\n",
    "1. Marko Bohanec (marko.bohanec '@' ijs.si)\n",
    "2. Blaz Zupan (blaz.zupan '@' ijs.si)"
   ]
  },
  {
   "cell_type": "markdown",
   "metadata": {},
   "source": [
    "# Feature engineering"
   ]
  },
  {
   "cell_type": "code",
   "execution_count": 2,
   "metadata": {},
   "outputs": [
    {
     "data": {
      "text/html": [
       "<div>\n",
       "<style scoped>\n",
       "    .dataframe tbody tr th:only-of-type {\n",
       "        vertical-align: middle;\n",
       "    }\n",
       "\n",
       "    .dataframe tbody tr th {\n",
       "        vertical-align: top;\n",
       "    }\n",
       "\n",
       "    .dataframe thead th {\n",
       "        text-align: right;\n",
       "    }\n",
       "</style>\n",
       "<table border=\"1\" class=\"dataframe\">\n",
       "  <thead>\n",
       "    <tr style=\"text-align: right;\">\n",
       "      <th></th>\n",
       "      <th>buying</th>\n",
       "      <th>maint</th>\n",
       "      <th>doors</th>\n",
       "      <th>persons</th>\n",
       "      <th>lug_boot</th>\n",
       "      <th>safety</th>\n",
       "      <th>class</th>\n",
       "    </tr>\n",
       "  </thead>\n",
       "  <tbody>\n",
       "    <tr>\n",
       "      <th>1120</th>\n",
       "      <td>med</td>\n",
       "      <td>med</td>\n",
       "      <td>3</td>\n",
       "      <td>4</td>\n",
       "      <td>med</td>\n",
       "      <td>high</td>\n",
       "      <td>acc</td>\n",
       "    </tr>\n",
       "    <tr>\n",
       "      <th>236</th>\n",
       "      <td>vhigh</td>\n",
       "      <td>med</td>\n",
       "      <td>2</td>\n",
       "      <td>more</td>\n",
       "      <td>med</td>\n",
       "      <td>low</td>\n",
       "      <td>unacc</td>\n",
       "    </tr>\n",
       "    <tr>\n",
       "      <th>135</th>\n",
       "      <td>vhigh</td>\n",
       "      <td>high</td>\n",
       "      <td>3</td>\n",
       "      <td>2</td>\n",
       "      <td>small</td>\n",
       "      <td>med</td>\n",
       "      <td>unacc</td>\n",
       "    </tr>\n",
       "    <tr>\n",
       "      <th>651</th>\n",
       "      <td>high</td>\n",
       "      <td>med</td>\n",
       "      <td>2</td>\n",
       "      <td>2</td>\n",
       "      <td>med</td>\n",
       "      <td>med</td>\n",
       "      <td>unacc</td>\n",
       "    </tr>\n",
       "    <tr>\n",
       "      <th>221</th>\n",
       "      <td>vhigh</td>\n",
       "      <td>med</td>\n",
       "      <td>2</td>\n",
       "      <td>2</td>\n",
       "      <td>big</td>\n",
       "      <td>low</td>\n",
       "      <td>unacc</td>\n",
       "    </tr>\n",
       "  </tbody>\n",
       "</table>\n",
       "</div>"
      ],
      "text/plain": [
       "     buying maint doors persons lug_boot safety  class\n",
       "1120    med   med     3       4      med   high    acc\n",
       "236   vhigh   med     2    more      med    low  unacc\n",
       "135   vhigh  high     3       2    small    med  unacc\n",
       "651    high   med     2       2      med    med  unacc\n",
       "221   vhigh   med     2       2      big    low  unacc"
      ]
     },
     "execution_count": 2,
     "metadata": {},
     "output_type": "execute_result"
    }
   ],
   "source": [
    "dataset.head()"
   ]
  },
  {
   "cell_type": "markdown",
   "metadata": {},
   "source": [
    "**Values in every column are string type**"
   ]
  },
  {
   "cell_type": "code",
   "execution_count": 3,
   "metadata": {},
   "outputs": [
    {
     "data": {
      "text/plain": [
       "array(['3', '2', '3', ..., '5more', '2', '5more'], dtype=object)"
      ]
     },
     "execution_count": 3,
     "metadata": {},
     "output_type": "execute_result"
    }
   ],
   "source": [
    "dataset['doors'].values"
   ]
  },
  {
   "cell_type": "markdown",
   "metadata": {},
   "source": [
    "**Create a mapping dictionary to one-hot encoding feature values**"
   ]
  },
  {
   "cell_type": "code",
   "execution_count": 4,
   "metadata": {},
   "outputs": [],
   "source": [
    "vocabulary_list = {'buying' : ['low', 'med', 'high', 'vhigh'],\n",
    "                   'maint' : ['low', 'med', 'high', 'vhigh'],\n",
    "                   'doors' : ['2', '3', '4', '5more'],\n",
    "                   'persons' : ['2', '4', 'more'],\n",
    "                   'lug_boot' : ['small', 'med', 'big'],\n",
    "                   'safety' : ['low', 'med', 'high'],\n",
    "                   'class' : ['unacc', 'acc', 'good', 'vgood']}"
   ]
  },
  {
   "cell_type": "markdown",
   "metadata": {},
   "source": [
    "**Create feature layer**"
   ]
  },
  {
   "cell_type": "code",
   "execution_count": 5,
   "metadata": {},
   "outputs": [],
   "source": [
    "feature_column = []\n",
    "embedding_dim = 8\n",
    "\n",
    "buying = tf.feature_column.categorical_column_with_vocabulary_list('buying', vocabulary_list['buying'])\n",
    "buying = tf.feature_column.embedding_column(buying, embedding_dim)\n",
    "feature_column.append(buying)\n",
    "\n",
    "maint = tf.feature_column.categorical_column_with_vocabulary_list('maint', vocabulary_list['maint'])\n",
    "maint = tf.feature_column.embedding_column(maint, embedding_dim)\n",
    "feature_column.append(maint)\n",
    "\n",
    "doors = tf.feature_column.categorical_column_with_vocabulary_list('doors', vocabulary_list['doors'])\n",
    "doors = tf.feature_column.embedding_column(doors, embedding_dim)\n",
    "feature_column.append(doors)\n",
    "\n",
    "persons = tf.feature_column.categorical_column_with_vocabulary_list('persons', vocabulary_list['persons'])\n",
    "persons = tf.feature_column.embedding_column(persons, embedding_dim)\n",
    "feature_column.append(persons)\n",
    "\n",
    "safety = tf.feature_column.categorical_column_with_vocabulary_list('safety', vocabulary_list['safety'])\n",
    "safety = tf.feature_column.embedding_column(safety, embedding_dim)\n",
    "feature_column.append(safety)\n",
    "\n",
    "feature_layer = tf.keras.layers.DenseFeatures(feature_column)"
   ]
  },
  {
   "cell_type": "markdown",
   "metadata": {},
   "source": [
    "**Split the data set**"
   ]
  },
  {
   "cell_type": "code",
   "execution_count": 6,
   "metadata": {},
   "outputs": [],
   "source": [
    "train_df = dataset.sample(frac=0.8, random_state=1)\n",
    "test_df = dataset.drop(train_df.index, axis=0)"
   ]
  },
  {
   "cell_type": "markdown",
   "metadata": {},
   "source": [
    "**Prepare features and labels**"
   ]
  },
  {
   "cell_type": "code",
   "execution_count": 7,
   "metadata": {},
   "outputs": [],
   "source": [
    "train_features = {name : np.array(values) for name, values in train_df.items()}\n",
    "train_labels = np.array(train_features.pop('class'))\n",
    "\n",
    "test_features = {name : np.array(values) for name, values in test_df.items()}\n",
    "test_labels = np.array(test_features.pop('class'))"
   ]
  },
  {
   "cell_type": "code",
   "execution_count": 8,
   "metadata": {},
   "outputs": [],
   "source": [
    "for idx, val in enumerate(vocabulary_list['class']):\n",
    "    train_labels = np.where(train_labels == val, idx, train_labels)\n",
    "    test_labels = np.where(test_labels == val, idx, test_labels)\n",
    "    \n",
    "train_labels = np.asarray(train_labels).astype(np.float32)\n",
    "test_labels = np.asarray(test_labels).astype(np.float32)"
   ]
  },
  {
   "cell_type": "code",
   "execution_count": 9,
   "metadata": {},
   "outputs": [
    {
     "name": "stdout",
     "output_type": "stream",
     "text": [
      "{'buying': array(['med', 'high', 'med', ..., 'vhigh', 'low', 'high'], dtype=object), 'maint': array(['low', 'low', 'vhigh', ..., 'low', 'vhigh', 'vhigh'], dtype=object), 'doors': array(['2', '4', '3', ..., '3', '2', '3'], dtype=object), 'persons': array(['2', '2', 'more', ..., '2', '4', '4'], dtype=object), 'lug_boot': array(['med', 'med', 'small', ..., 'med', 'med', 'small'], dtype=object), 'safety': array(['high', 'high', 'low', ..., 'high', 'med', 'high'], dtype=object)}\n"
     ]
    }
   ],
   "source": [
    "print(train_features)"
   ]
  },
  {
   "cell_type": "code",
   "execution_count": 10,
   "metadata": {},
   "outputs": [
    {
     "name": "stdout",
     "output_type": "stream",
     "text": [
      "tf.Tensor(\n",
      "[[ 0.5547482  -0.23339444  0.13346213 ...  0.4058157   0.3992212\n",
      "  -0.05549274]\n",
      " [-0.1984569  -0.1568038  -0.15186796 ...  0.4058157   0.3992212\n",
      "  -0.05549274]\n",
      " [ 0.5547482  -0.23339444  0.13346213 ... -0.41066313  0.4957767\n",
      "  -0.28843015]\n",
      " ...\n",
      " [ 0.26184592 -0.1271563   0.67016745 ...  0.4058157   0.3992212\n",
      "  -0.05549274]\n",
      " [ 0.02795715  0.24306343 -0.24024093 ... -0.03209613 -0.14599727\n",
      "   0.15243301]\n",
      " [-0.1984569  -0.1568038  -0.15186796 ...  0.4058157   0.3992212\n",
      "  -0.05549274]], shape=(1382, 40), dtype=float32)\n"
     ]
    }
   ],
   "source": [
    "print(feature_layer(dict(train_features)))"
   ]
  },
  {
   "cell_type": "markdown",
   "metadata": {},
   "source": [
    "# Build a model"
   ]
  },
  {
   "cell_type": "markdown",
   "metadata": {},
   "source": [
    "**Create and train a model**"
   ]
  },
  {
   "cell_type": "code",
   "execution_count": 11,
   "metadata": {
    "scrolled": false
   },
   "outputs": [
    {
     "name": "stdout",
     "output_type": "stream",
     "text": [
      "Epoch 1/20\n",
      "WARNING:tensorflow:Layers in a Sequential model should only have a single input tensor. Received: inputs={'buying': <tf.Tensor 'IteratorGetNext:0' shape=(None,) dtype=string>, 'maint': <tf.Tensor 'IteratorGetNext:3' shape=(None,) dtype=string>, 'doors': <tf.Tensor 'IteratorGetNext:1' shape=(None,) dtype=string>, 'persons': <tf.Tensor 'IteratorGetNext:4' shape=(None,) dtype=string>, 'lug_boot': <tf.Tensor 'IteratorGetNext:2' shape=(None,) dtype=string>, 'safety': <tf.Tensor 'IteratorGetNext:5' shape=(None,) dtype=string>}. Consider rewriting this model with the Functional API.\n",
      "WARNING:tensorflow:Layers in a Sequential model should only have a single input tensor. Received: inputs={'buying': <tf.Tensor 'IteratorGetNext:0' shape=(None,) dtype=string>, 'maint': <tf.Tensor 'IteratorGetNext:3' shape=(None,) dtype=string>, 'doors': <tf.Tensor 'IteratorGetNext:1' shape=(None,) dtype=string>, 'persons': <tf.Tensor 'IteratorGetNext:4' shape=(None,) dtype=string>, 'lug_boot': <tf.Tensor 'IteratorGetNext:2' shape=(None,) dtype=string>, 'safety': <tf.Tensor 'IteratorGetNext:5' shape=(None,) dtype=string>}. Consider rewriting this model with the Functional API.\n",
      "WARNING:tensorflow:Layers in a Sequential model should only have a single input tensor. Received: inputs={'buying': <tf.Tensor 'IteratorGetNext:0' shape=(None,) dtype=string>, 'maint': <tf.Tensor 'IteratorGetNext:3' shape=(None,) dtype=string>, 'doors': <tf.Tensor 'IteratorGetNext:1' shape=(None,) dtype=string>, 'persons': <tf.Tensor 'IteratorGetNext:4' shape=(None,) dtype=string>, 'lug_boot': <tf.Tensor 'IteratorGetNext:2' shape=(None,) dtype=string>, 'safety': <tf.Tensor 'IteratorGetNext:5' shape=(None,) dtype=string>}. Consider rewriting this model with the Functional API.\n",
      "78/78 - 2s - loss: 0.9294 - accuracy: 0.6798 - val_loss: 0.7220 - val_accuracy: 0.6403 - 2s/epoch - 23ms/step\n",
      "Epoch 2/20\n",
      "78/78 - 0s - loss: 0.5313 - accuracy: 0.7691 - val_loss: 0.4775 - val_accuracy: 0.8633 - 200ms/epoch - 3ms/step\n",
      "Epoch 3/20\n",
      "78/78 - 0s - loss: 0.4043 - accuracy: 0.8455 - val_loss: 0.3987 - val_accuracy: 0.8849 - 178ms/epoch - 2ms/step\n",
      "Epoch 4/20\n",
      "78/78 - 0s - loss: 0.3543 - accuracy: 0.8504 - val_loss: 0.3612 - val_accuracy: 0.8849 - 177ms/epoch - 2ms/step\n",
      "Epoch 5/20\n",
      "78/78 - 0s - loss: 0.3228 - accuracy: 0.8560 - val_loss: 0.3349 - val_accuracy: 0.8993 - 177ms/epoch - 2ms/step\n",
      "Epoch 6/20\n",
      "78/78 - 0s - loss: 0.3009 - accuracy: 0.8632 - val_loss: 0.3113 - val_accuracy: 0.9137 - 179ms/epoch - 2ms/step\n",
      "Epoch 7/20\n",
      "78/78 - 0s - loss: 0.2803 - accuracy: 0.8721 - val_loss: 0.3014 - val_accuracy: 0.9065 - 182ms/epoch - 2ms/step\n",
      "Epoch 8/20\n",
      "78/78 - 0s - loss: 0.2590 - accuracy: 0.8866 - val_loss: 0.3090 - val_accuracy: 0.8705 - 180ms/epoch - 2ms/step\n",
      "Epoch 9/20\n",
      "78/78 - 0s - loss: 0.2522 - accuracy: 0.8842 - val_loss: 0.2766 - val_accuracy: 0.8849 - 180ms/epoch - 2ms/step\n",
      "Epoch 10/20\n",
      "78/78 - 0s - loss: 0.2428 - accuracy: 0.8833 - val_loss: 0.2694 - val_accuracy: 0.8777 - 180ms/epoch - 2ms/step\n",
      "Epoch 11/20\n",
      "78/78 - 0s - loss: 0.2329 - accuracy: 0.8858 - val_loss: 0.2738 - val_accuracy: 0.8417 - 182ms/epoch - 2ms/step\n",
      "Epoch 12/20\n",
      "78/78 - 0s - loss: 0.2269 - accuracy: 0.8898 - val_loss: 0.2595 - val_accuracy: 0.8633 - 178ms/epoch - 2ms/step\n",
      "Epoch 13/20\n",
      "78/78 - 0s - loss: 0.2180 - accuracy: 0.8978 - val_loss: 0.2458 - val_accuracy: 0.8777 - 179ms/epoch - 2ms/step\n",
      "Epoch 14/20\n",
      "78/78 - 0s - loss: 0.2156 - accuracy: 0.8978 - val_loss: 0.2697 - val_accuracy: 0.8561 - 181ms/epoch - 2ms/step\n",
      "Epoch 15/20\n",
      "78/78 - 0s - loss: 0.2157 - accuracy: 0.8930 - val_loss: 0.2712 - val_accuracy: 0.8273 - 176ms/epoch - 2ms/step\n",
      "Epoch 16/20\n",
      "78/78 - 0s - loss: 0.2066 - accuracy: 0.9010 - val_loss: 0.2527 - val_accuracy: 0.8561 - 180ms/epoch - 2ms/step\n",
      "Epoch 17/20\n",
      "78/78 - 0s - loss: 0.2041 - accuracy: 0.8962 - val_loss: 0.2473 - val_accuracy: 0.8561 - 181ms/epoch - 2ms/step\n",
      "Epoch 18/20\n",
      "78/78 - 0s - loss: 0.2067 - accuracy: 0.8946 - val_loss: 0.2639 - val_accuracy: 0.8561 - 179ms/epoch - 2ms/step\n",
      "Epoch 19/20\n",
      "78/78 - 0s - loss: 0.1994 - accuracy: 0.8978 - val_loss: 0.2616 - val_accuracy: 0.8345 - 178ms/epoch - 2ms/step\n",
      "Epoch 20/20\n",
      "78/78 - 0s - loss: 0.2005 - accuracy: 0.8978 - val_loss: 0.2575 - val_accuracy: 0.8633 - 180ms/epoch - 2ms/step\n"
     ]
    },
    {
     "data": {
      "image/png": "[encoded data removed]",
      "text/plain": [
       "<Figure size 640x480 with 1 Axes>"
      ]
     },
     "metadata": {},
     "output_type": "display_data"
    },
    {
     "data": {
      "image/png": "[encoded data removed]",
      "text/plain": [
       "<Figure size 640x480 with 1 Axes>"
      ]
     },
     "metadata": {},
     "output_type": "display_data"
    }
   ],
   "source": [
    "model = None\n",
    "\n",
    "used_features = 4\n",
    "learning_rate = 0.001\n",
    "epochs = 20\n",
    "batch_size = 16\n",
    "\n",
    "# regularization = tf.keras.regularizers.l1(l1=0.001)\n",
    "\n",
    "# Create a model\n",
    "model = tf.keras.Sequential([\n",
    "    feature_layer,\n",
    "    tf.keras.layers.Dense(units=used_features * embedding_dim, activation='relu', input_shape=(1,)),\n",
    "    tf.keras.layers.Dense(units=16, activation='relu'),\n",
    "    tf.keras.layers.Dense(units=4, activation='softmax')\n",
    "])\n",
    "\n",
    "model.compile(optimizer=tf.keras.optimizers.Adam(learning_rate=learning_rate),\n",
    "             loss='sparse_categorical_crossentropy',\n",
    "             metrics=['accuracy'])\n",
    "\n",
    "# Train the model\n",
    "history = model.fit(x=train_features, y=train_labels, batch_size=batch_size, epochs=epochs,\n",
    "                    shuffle=True, validation_split=0.1, verbose=2)\n",
    "\n",
    "epochs, history = history.epoch, pd.DataFrame(history.history)\n",
    "\n",
    "train_history = history.values[:, :2]\n",
    "validation_history = history.values[:, 2:]\n",
    "\n",
    "# Plot training stats\n",
    "plt.plot(epochs[1:], train_history[1:])\n",
    "plt.title('Training stats')\n",
    "plt.xlabel('Epochs')\n",
    "plt.ylabel('Value')\n",
    "plt.legend(['Loss', 'Accuracy', 'Precision', 'Recall'])\n",
    "plt.show()\n",
    "\n",
    "# Plot validation stats\n",
    "plt.plot(epochs[1:], validation_history[1:])\n",
    "plt.title('Validation stats')\n",
    "plt.xlabel('Epochs')\n",
    "plt.ylabel('Value')\n",
    "plt.legend(['Loss', 'Accuracy', 'Precision', 'Recall'])\n",
    "plt.show()"
   ]
  },
  {
   "cell_type": "markdown",
   "metadata": {},
   "source": [
    "# Test the model"
   ]
  },
  {
   "cell_type": "code",
   "execution_count": 12,
   "metadata": {},
   "outputs": [
    {
     "name": "stdout",
     "output_type": "stream",
     "text": [
      "22/22 [==============================] - 0s 2ms/step - loss: 0.1936 - accuracy: 0.9014\n"
     ]
    },
    {
     "data": {
      "text/plain": [
       "[0.1936468631029129, 0.9014492630958557]"
      ]
     },
     "execution_count": 12,
     "metadata": {},
     "output_type": "execute_result"
    }
   ],
   "source": [
    "model.evaluate(x=test_features, y=test_labels, batch_size=batch_size)"
   ]
  },
  {
   "cell_type": "code",
   "execution_count": 13,
   "metadata": {},
   "outputs": [
    {
     "name": "stdout",
     "output_type": "stream",
     "text": [
      "WARNING:tensorflow:Layers in a Sequential model should only have a single input tensor. Received: inputs={'buying': <tf.Tensor 'IteratorGetNext:0' shape=(None,) dtype=string>, 'maint': <tf.Tensor 'IteratorGetNext:3' shape=(None,) dtype=string>, 'doors': <tf.Tensor 'IteratorGetNext:1' shape=(None,) dtype=string>, 'persons': <tf.Tensor 'IteratorGetNext:4' shape=(None,) dtype=string>, 'lug_boot': <tf.Tensor 'IteratorGetNext:2' shape=(None,) dtype=string>, 'safety': <tf.Tensor 'IteratorGetNext:5' shape=(None,) dtype=string>}. Consider rewriting this model with the Functional API.\n",
      "22/22 [==============================] - 0s 2ms/step\n"
     ]
    }
   ],
   "source": [
    "predictions = model.predict(x=test_features, batch_size=batch_size)"
   ]
  },
  {
   "cell_type": "code",
   "execution_count": 14,
   "metadata": {},
   "outputs": [
    {
     "name": "stdout",
     "output_type": "stream",
     "text": [
      "acc\n",
      "acc\n"
     ]
    }
   ],
   "source": [
    "idx = 234\n",
    "print(vocabulary_list['class'][int(test_labels[idx])])\n",
    "print(vocabulary_list['class'][np.argmax(predictions[idx])])"
   ]
  }
 ],
 "metadata": {
  "kernelspec": {
   "display_name": "Python 3",
   "language": "python",
   "name": "python3"
  },
  "language_info": {
   "codemirror_mode": {
    "name": "ipython",
    "version": 3
   },
   "file_extension": ".py",
   "mimetype": "text/x-python",
   "name": "python",
   "nbconvert_exporter": "python",
   "pygments_lexer": "ipython3",
   "version": "3.8.10"
  }
 },
 "nbformat": 4,
 "nbformat_minor": 2
}
